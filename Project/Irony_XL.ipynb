{
  "nbformat": 4,
  "nbformat_minor": 0,
  "metadata": {
    "colab": {
      "name": "Irony_XL.ipynb",
      "provenance": [],
      "collapsed_sections": [],
      "include_colab_link": true
    },
    "kernelspec": {
      "name": "python3",
      "display_name": "Python 3"
    },
    "language_info": {
      "name": "python"
    },
    "accelerator": "GPU"
  },
  "cells": [
    {
      "cell_type": "markdown",
      "metadata": {
        "id": "view-in-github",
        "colab_type": "text"
      },
      "source": [
        "<a href=\"https://colab.research.google.com/github/faizanhemotra/CE888/blob/main/Project/Irony_XL.ipynb\" target=\"_parent\"><img src=\"https://colab.research.google.com/assets/colab-badge.svg\" alt=\"Open In Colab\"/></a>"
      ]
    },
    {
      "cell_type": "markdown",
      "metadata": {
        "id": "XjGbBLcBvXtK"
      },
      "source": [
        "##Data"
      ]
    },
    {
      "cell_type": "code",
      "metadata": {
        "id": "jOV5GBONvv0r"
      },
      "source": [
        "import numpy as np\n",
        "import random\n",
        "import re\n",
        "import requests"
      ],
      "execution_count": null,
      "outputs": []
    },
    {
      "cell_type": "code",
      "metadata": {
        "id": "6SJHjtu_vrvT"
      },
      "source": [
        "def shape_data(feature, label):\n",
        "    '''Returns number of rows for feature and label'''\n",
        "    return len(feature.splitlines()), len(label.splitlines())"
      ],
      "execution_count": null,
      "outputs": []
    },
    {
      "cell_type": "code",
      "metadata": {
        "colab": {
          "base_uri": "https://localhost:8080/"
        },
        "id": "82aDqK0uu_iB",
        "outputId": "21c221f7-9fba-45c9-d99b-037871420258"
      },
      "source": [
        "irony_train_url = 'https://raw.githubusercontent.com/cardiffnlp/tweeteval/main/datasets/irony/train_text.txt'\n",
        "irony_train = requests.get(irony_train_url)\n",
        "irony_train_labels_url = 'https://raw.githubusercontent.com/cardiffnlp/tweeteval/main/datasets/irony/train_labels.txt'\n",
        "irony_train_labels = requests.get(irony_train_labels_url)\n",
        "print('Irony Training, Label')\n",
        "shape_data(irony_train.text, irony_train_labels.text)"
      ],
      "execution_count": null,
      "outputs": [
        {
          "output_type": "stream",
          "text": [
            "Irony Training, Label\n"
          ],
          "name": "stdout"
        },
        {
          "output_type": "execute_result",
          "data": {
            "text/plain": [
              "(2862, 2862)"
            ]
          },
          "metadata": {
            "tags": []
          },
          "execution_count": 3
        }
      ]
    },
    {
      "cell_type": "code",
      "metadata": {
        "colab": {
          "base_uri": "https://localhost:8080/"
        },
        "id": "1OA2E8Y3vCBk",
        "outputId": "9f7a66ee-30b0-48ad-f9ce-07c497e33ef2"
      },
      "source": [
        "irony_val_url = 'https://raw.githubusercontent.com/cardiffnlp/tweeteval/main/datasets/irony/val_text.txt'\n",
        "irony_val = requests.get(irony_val_url)\n",
        "irony_val_labels_url = 'https://raw.githubusercontent.com/cardiffnlp/tweeteval/main/datasets/irony/val_labels.txt'\n",
        "irony_val_labels = requests.get(irony_val_labels_url)\n",
        "print('Irony Validation, Label')\n",
        "shape_data(irony_val.text, irony_val_labels.text)"
      ],
      "execution_count": null,
      "outputs": [
        {
          "output_type": "stream",
          "text": [
            "Irony Validation, Label\n"
          ],
          "name": "stdout"
        },
        {
          "output_type": "execute_result",
          "data": {
            "text/plain": [
              "(955, 955)"
            ]
          },
          "metadata": {
            "tags": []
          },
          "execution_count": 4
        }
      ]
    },
    {
      "cell_type": "code",
      "metadata": {
        "colab": {
          "base_uri": "https://localhost:8080/"
        },
        "id": "NNQP2gUlvFbL",
        "outputId": "f9f57e1d-3299-40c0-cfc3-6f7b7b4cca58"
      },
      "source": [
        "irony_test_url = 'https://raw.githubusercontent.com/cardiffnlp/tweeteval/main/datasets/irony/test_text.txt'\n",
        "irony_test = requests.get(irony_test_url)\n",
        "irony_test_labels_url = 'https://raw.githubusercontent.com/cardiffnlp/tweeteval/main/datasets/irony/test_labels.txt'\n",
        "irony_test_labels = requests.get(irony_test_labels_url)\n",
        "print('Irony Test, Label')\n",
        "shape_data(irony_test.text, irony_test_labels.text)"
      ],
      "execution_count": null,
      "outputs": [
        {
          "output_type": "stream",
          "text": [
            "Irony Test, Label\n"
          ],
          "name": "stdout"
        },
        {
          "output_type": "execute_result",
          "data": {
            "text/plain": [
              "(784, 784)"
            ]
          },
          "metadata": {
            "tags": []
          },
          "execution_count": 5
        }
      ]
    },
    {
      "cell_type": "markdown",
      "metadata": {
        "id": "CflQxHojvd3v"
      },
      "source": [
        "##Labels"
      ]
    },
    {
      "cell_type": "code",
      "metadata": {
        "id": "eCRnbGeavIEk"
      },
      "source": [
        "irony_train_distr = list()\n",
        "for label in irony_train_labels.text.splitlines():\n",
        "    irony_train_distr.append(int(label))\n",
        "\n",
        "irony_val_distr = list()\n",
        "for label in irony_val_labels.text.splitlines():\n",
        "    irony_val_distr.append(int(label))\n",
        "\n",
        "irony_test_distr = list()\n",
        "for label in irony_test_labels.text.splitlines():\n",
        "    irony_test_distr.append(int(label))"
      ],
      "execution_count": null,
      "outputs": []
    },
    {
      "cell_type": "code",
      "metadata": {
        "colab": {
          "base_uri": "https://localhost:8080/"
        },
        "id": "EmPOYjgmqMN_",
        "outputId": "57097917-5515-44d9-b447-06470b513229"
      },
      "source": [
        "labels = list(set(irony_train_distr))\n",
        "print(labels)"
      ],
      "execution_count": null,
      "outputs": [
        {
          "output_type": "stream",
          "text": [
            "[0, 1]\n"
          ],
          "name": "stdout"
        }
      ]
    },
    {
      "cell_type": "code",
      "metadata": {
        "id": "XXGKNISZvTLM"
      },
      "source": [
        "def linkremover(text):\n",
        "    '''Removes t.co and instagram.com links from the data'''\n",
        "    tco = r'https?://t.co/[\\w]{10}'\n",
        "    insta = r'https?://(www.)?instagram.com/p/[-\\w]{11}/?'\n",
        "    if (re.findall(tco + '|' + insta, text) != []):\n",
        "        final = re.sub(tco + '|' + insta, '', text)\n",
        "        return final\n",
        "    else:\n",
        "        print('No links')\n",
        "    return text"
      ],
      "execution_count": null,
      "outputs": []
    },
    {
      "cell_type": "code",
      "metadata": {
        "id": "2EIp8YGIvSDB"
      },
      "source": [
        "irony_tr = linkremover(irony_train.text)\n",
        "irony_v = linkremover(irony_val.text)\n",
        "irony_te = linkremover(irony_test.text)"
      ],
      "execution_count": null,
      "outputs": []
    },
    {
      "cell_type": "code",
      "metadata": {
        "colab": {
          "base_uri": "https://localhost:8080/"
        },
        "id": "10jcPhgnb0ih",
        "outputId": "64caf51d-c270-4ba1-d2aa-fb041dc47e96"
      },
      "source": [
        "import os\n",
        "import torch\n",
        "hftransformers = os.path.exists('/content/transformers')\n",
        "if hftransformers:\n",
        "  print('transformers already downloaded ')\n",
        "else:\n",
        "  !git clone https://github.com/huggingface/transformers.git"
      ],
      "execution_count": null,
      "outputs": [
        {
          "output_type": "stream",
          "text": [
            "transformers already downloaded \n"
          ],
          "name": "stdout"
        }
      ]
    },
    {
      "cell_type": "code",
      "metadata": {
        "colab": {
          "base_uri": "https://localhost:8080/"
        },
        "id": "Hs0Uei9VjgDj",
        "outputId": "4fab7811-25c2-4ba6-cf5d-fc7687fdf119"
      },
      "source": [
        "cd transformers"
      ],
      "execution_count": null,
      "outputs": [
        {
          "output_type": "stream",
          "text": [
            "/content/transformers\n"
          ],
          "name": "stdout"
        }
      ]
    },
    {
      "cell_type": "code",
      "metadata": {
        "colab": {
          "base_uri": "https://localhost:8080/"
        },
        "id": "6PaEWL_tjlFY",
        "outputId": "aaaeeff7-8acd-45b1-a45f-a0dc03cfa839"
      },
      "source": [
        "if hftransformers:\n",
        "  print('transformers already downloaded ')\n",
        "else:\n",
        "  !pip3 install --upgrade ."
      ],
      "execution_count": null,
      "outputs": [
        {
          "output_type": "stream",
          "text": [
            "transformers already downloaded \n"
          ],
          "name": "stdout"
        }
      ]
    },
    {
      "cell_type": "code",
      "metadata": {
        "colab": {
          "base_uri": "https://localhost:8080/"
        },
        "id": "uTQPD1MOcF10",
        "outputId": "c280dc15-b9bf-4224-8ee1-1c745f3f8aa4"
      },
      "source": [
        "import importlib\n",
        "emoji = importlib.util.find_spec(\"emoji\")\n",
        "found = emoji is not None\n",
        "if found:\n",
        "  print('emoji package already exists')\n",
        "else:\n",
        "  !pip3 install emoji"
      ],
      "execution_count": null,
      "outputs": [
        {
          "output_type": "stream",
          "text": [
            "emoji package already exists\n"
          ],
          "name": "stdout"
        }
      ]
    },
    {
      "cell_type": "markdown",
      "metadata": {
        "id": "o5f9kqDu7qpg"
      },
      "source": [
        "## Tokenizing"
      ]
    },
    {
      "cell_type": "code",
      "metadata": {
        "id": "pZ8ZMdrdcVgw"
      },
      "source": [
        "from transformers import AutoTokenizer\n",
        "tokenizer = AutoTokenizer.from_pretrained('xlnet-base-cased', use_fast=False)"
      ],
      "execution_count": null,
      "outputs": []
    },
    {
      "cell_type": "code",
      "metadata": {
        "id": "32ygndwLeBTD"
      },
      "source": [
        "torch.manual_seed(1)\n",
        "np.random.seed(1)"
      ],
      "execution_count": null,
      "outputs": []
    },
    {
      "cell_type": "code",
      "metadata": {
        "id": "6u4-gebBf3Er",
        "colab": {
          "base_uri": "https://localhost:8080/"
        },
        "outputId": "442f4ce5-16de-49a8-d9fe-a4d09ae10519"
      },
      "source": [
        "train_encodings = tokenizer(irony_tr.splitlines(), truncation=True, padding=True)\n",
        "valid_encodings = tokenizer(irony_v.splitlines(), truncation=True, padding=True)\n",
        "test_encodings = tokenizer(irony_te.splitlines(), truncation=True, padding=True)"
      ],
      "execution_count": null,
      "outputs": [
        {
          "output_type": "stream",
          "text": [
            "Asking to truncate to max_length but no maximum length is provided and the model has no predefined maximum length. Default to no truncation.\n"
          ],
          "name": "stderr"
        }
      ]
    },
    {
      "cell_type": "code",
      "metadata": {
        "id": "AVWsMT6Uj6px"
      },
      "source": [
        "class Irony(torch.utils.data.Dataset):\n",
        "    def __init__(self, encodings, labels):\n",
        "        self.encodings = encodings\n",
        "        self.labels = labels\n",
        "\n",
        "    def __getitem__(self, idx):\n",
        "        item = {k: torch.tensor(v[idx]) for k, v in self.encodings.items()}\n",
        "        item[\"labels\"] = torch.tensor([self.labels[idx]])\n",
        "        return item\n",
        "\n",
        "    def __len__(self):\n",
        "        return len(self.labels)\n",
        "\n",
        "# convert our tokenized data into a torch Dataset\n",
        "train_dataset = Irony(train_encodings, irony_train_distr)\n",
        "valid_dataset = Irony(valid_encodings, irony_val_distr)\n",
        "test_dataset = Irony(test_encodings, irony_test_distr)"
      ],
      "execution_count": null,
      "outputs": []
    },
    {
      "cell_type": "markdown",
      "metadata": {
        "id": "wELfwiITwiD1"
      },
      "source": [
        "##Training"
      ]
    },
    {
      "cell_type": "code",
      "metadata": {
        "colab": {
          "base_uri": "https://localhost:8080/"
        },
        "id": "5k9ByRSTEtdS",
        "outputId": "7b070c1c-b627-403d-e050-c8a91bf82fa5"
      },
      "source": [
        "from sklearn.metrics import f1_score\n",
        "from transformers import XLNetForSequenceClassification, Trainer, TrainingArguments\n",
        "\n",
        "def compute_metrics(pred):\n",
        "    labels = pred.label_ids\n",
        "    preds = pred.predictions.argmax(-1)\n",
        "    f1 = f1_score(labels, preds, average='macro')\n",
        "    return {\n",
        "        'f1': f1\n",
        "    }\n",
        "\n",
        "model = XLNetForSequenceClassification.from_pretrained('xlnet-base-cased', cache_dir='cache/', num_labels=len(labels))\n",
        "training_args = TrainingArguments(\n",
        "    output_dir='./results',          # output directory\n",
        "    num_train_epochs=5,              # total # of training epochs\n",
        "    per_device_train_batch_size=12,  # batch size per device during training\n",
        "    per_device_eval_batch_size=12,   # batch size for evaluation\n",
        "    evaluation_strategy='epoch',\n",
        "    disable_tqdm=False,\n",
        "    load_best_model_at_end=True,\n",
        "    save_strategy='epoch',\n",
        "    save_total_limit=7,\n",
        "    warmup_steps=500,                # number of warmup steps for learning rate scheduler\n",
        "    weight_decay=0.01,               # strength of weight decay\n",
        "    logging_steps=8,\n",
        "    logging_dir='./logs',            # directory for storing logs\n",
        "    dataloader_num_workers=2,\n",
        "    run_name='xlnet-classification'\n",
        ")\n",
        "\n",
        "trainer = Trainer(\n",
        "    model=model,                         # the instantiated 🤗 Transformers model to be trained\n",
        "    args=training_args,                  # training arguments, defined above\n",
        "    train_dataset=train_dataset,         # training dataset\n",
        "    eval_dataset=valid_dataset,          # evaluation dataset\n",
        "    compute_metrics=compute_metrics\n",
        ")"
      ],
      "execution_count": null,
      "outputs": [
        {
          "output_type": "stream",
          "text": [
            "Some weights of the model checkpoint at xlnet-base-cased were not used when initializing XLNetForSequenceClassification: ['lm_loss.weight', 'lm_loss.bias']\n",
            "- This IS expected if you are initializing XLNetForSequenceClassification from the checkpoint of a model trained on another task or with another architecture (e.g. initializing a BertForSequenceClassification model from a BertForPreTraining model).\n",
            "- This IS NOT expected if you are initializing XLNetForSequenceClassification from the checkpoint of a model that you expect to be exactly identical (initializing a BertForSequenceClassification model from a BertForSequenceClassification model).\n",
            "Some weights of XLNetForSequenceClassification were not initialized from the model checkpoint at xlnet-base-cased and are newly initialized: ['sequence_summary.summary.weight', 'sequence_summary.summary.bias', 'logits_proj.weight', 'logits_proj.bias']\n",
            "You should probably TRAIN this model on a down-stream task to be able to use it for predictions and inference.\n"
          ],
          "name": "stderr"
        }
      ]
    },
    {
      "cell_type": "code",
      "metadata": {
        "colab": {
          "base_uri": "https://localhost:8080/",
          "height": 35
        },
        "id": "Nmmt9-CKj6WB",
        "outputId": "fd9e15eb-1a33-4fc4-ea36-9af2cb828b6a"
      },
      "source": [
        "device = 'cuda' if torch.cuda.is_available() else 'cpu'\n",
        "device"
      ],
      "execution_count": null,
      "outputs": [
        {
          "output_type": "execute_result",
          "data": {
            "application/vnd.google.colaboratory.intrinsic+json": {
              "type": "string"
            },
            "text/plain": [
              "'cuda'"
            ]
          },
          "metadata": {
            "tags": []
          },
          "execution_count": 19
        }
      ]
    },
    {
      "cell_type": "code",
      "metadata": {
        "colab": {
          "base_uri": "https://localhost:8080/"
        },
        "id": "2_AqmNgMVtPM",
        "outputId": "7c686fcc-5507-4699-ab65-90a77ed2d814"
      },
      "source": [
        "if device == 'cuda':\n",
        "  !nvidia-smi"
      ],
      "execution_count": null,
      "outputs": [
        {
          "output_type": "stream",
          "text": [
            "Fri Apr 16 15:42:08 2021       \n",
            "+-----------------------------------------------------------------------------+\n",
            "| NVIDIA-SMI 460.67       Driver Version: 460.32.03    CUDA Version: 11.2     |\n",
            "|-------------------------------+----------------------+----------------------+\n",
            "| GPU  Name        Persistence-M| Bus-Id        Disp.A | Volatile Uncorr. ECC |\n",
            "| Fan  Temp  Perf  Pwr:Usage/Cap|         Memory-Usage | GPU-Util  Compute M. |\n",
            "|                               |                      |               MIG M. |\n",
            "|===============================+======================+======================|\n",
            "|   0  Tesla T4            Off  | 00000000:00:04.0 Off |                    0 |\n",
            "| N/A   55C    P0    29W /  70W |   1548MiB / 15109MiB |      0%      Default |\n",
            "|                               |                      |                  N/A |\n",
            "+-------------------------------+----------------------+----------------------+\n",
            "                                                                               \n",
            "+-----------------------------------------------------------------------------+\n",
            "| Processes:                                                                  |\n",
            "|  GPU   GI   CI        PID   Type   Process name                  GPU Memory |\n",
            "|        ID   ID                                                   Usage      |\n",
            "|=============================================================================|\n",
            "+-----------------------------------------------------------------------------+\n"
          ],
          "name": "stdout"
        }
      ]
    },
    {
      "cell_type": "code",
      "metadata": {
        "colab": {
          "base_uri": "https://localhost:8080/",
          "height": 267
        },
        "id": "PjtxgaxiFaue",
        "outputId": "b32a2201-9d07-440c-c393-189804559301"
      },
      "source": [
        "trainer.train()"
      ],
      "execution_count": null,
      "outputs": [
        {
          "output_type": "display_data",
          "data": {
            "text/html": [
              "\n",
              "    <div>\n",
              "      \n",
              "      <progress value='1195' max='1195' style='width:300px; height:20px; vertical-align: middle;'></progress>\n",
              "      [1195/1195 29:51, Epoch 5/5]\n",
              "    </div>\n",
              "    <table border=\"1\" class=\"dataframe\">\n",
              "  <thead>\n",
              "    <tr style=\"text-align: left;\">\n",
              "      <th>Epoch</th>\n",
              "      <th>Training Loss</th>\n",
              "      <th>Validation Loss</th>\n",
              "      <th>F1</th>\n",
              "    </tr>\n",
              "  </thead>\n",
              "  <tbody>\n",
              "    <tr>\n",
              "      <td>1</td>\n",
              "      <td>0.694100</td>\n",
              "      <td>0.665285</td>\n",
              "      <td>0.563524</td>\n",
              "    </tr>\n",
              "    <tr>\n",
              "      <td>2</td>\n",
              "      <td>0.639000</td>\n",
              "      <td>0.614836</td>\n",
              "      <td>0.644623</td>\n",
              "    </tr>\n",
              "    <tr>\n",
              "      <td>3</td>\n",
              "      <td>0.579100</td>\n",
              "      <td>0.587638</td>\n",
              "      <td>0.680334</td>\n",
              "    </tr>\n",
              "    <tr>\n",
              "      <td>4</td>\n",
              "      <td>0.287500</td>\n",
              "      <td>0.927578</td>\n",
              "      <td>0.658476</td>\n",
              "    </tr>\n",
              "    <tr>\n",
              "      <td>5</td>\n",
              "      <td>0.096000</td>\n",
              "      <td>1.350008</td>\n",
              "      <td>0.694987</td>\n",
              "    </tr>\n",
              "  </tbody>\n",
              "</table><p>"
            ],
            "text/plain": [
              "<IPython.core.display.HTML object>"
            ]
          },
          "metadata": {
            "tags": []
          }
        },
        {
          "output_type": "execute_result",
          "data": {
            "text/plain": [
              "TrainOutput(global_step=1195, training_loss=0.4896876297984662, metrics={'train_runtime': 1793.5204, 'train_samples_per_second': 0.666, 'total_flos': 3313779004940040.0, 'epoch': 5.0, 'init_mem_cpu_alloc_delta': 2335059968, 'init_mem_gpu_alloc_delta': 469504512, 'init_mem_cpu_peaked_delta': 0, 'init_mem_gpu_peaked_delta': 0, 'train_mem_cpu_alloc_delta': 481218560, 'train_mem_gpu_alloc_delta': 1899255296, 'train_mem_cpu_peaked_delta': 16384, 'train_mem_gpu_peaked_delta': 5560568320})"
            ]
          },
          "metadata": {
            "tags": []
          },
          "execution_count": 21
        }
      ]
    },
    {
      "cell_type": "code",
      "metadata": {
        "id": "5QPrpgfbKwAM"
      },
      "source": [
        "torch.save(model.state_dict(), 'model_xlnet_irony.pth')"
      ],
      "execution_count": null,
      "outputs": []
    },
    {
      "cell_type": "markdown",
      "metadata": {
        "id": "mnccrh-o7RkH"
      },
      "source": [
        "## Evaluations"
      ]
    },
    {
      "cell_type": "code",
      "metadata": {
        "id": "84lcDxy73m2L"
      },
      "source": [
        "import itertools\n",
        "import matplotlib.pyplot as plt\n",
        "from sklearn.metrics import classification_report\n",
        "from sklearn.metrics import confusion_matrix"
      ],
      "execution_count": null,
      "outputs": []
    },
    {
      "cell_type": "code",
      "metadata": {
        "id": "ZHeaEq-evT7B"
      },
      "source": [
        "def plot_confusion_matrix(conf_mat, classes,\n",
        "                          normalize=False,\n",
        "                          title='Confusion matrix',\n",
        "                          cmap=plt.cm.Blues):\n",
        "    \"\"\"\n",
        "    This function prints and plots the confusion matrix.\n",
        "    Normalization can be applied by setting `normalize=True`.\n",
        "    conf_mat: confusion matrix\n",
        "    classes: names of classes to be annotated\n",
        "    normalize: [True/False] whether to normalise by column\n",
        "    \"\"\"\n",
        "    if normalize:\n",
        "        conf_mat = conf_mat.astype('float') / conf_mat.sum(axis=1)[:, np.newaxis]\n",
        "        print(\"Normalized confusion matrix\")\n",
        "    else:\n",
        "        print('Confusion matrix, without normalization')\n",
        "    plt.imshow(conf_mat, interpolation='nearest', cmap=cmap)\n",
        "    plt.title(title)\n",
        "    plt.colorbar()\n",
        "    tick_marks = np.arange(len(classes))\n",
        "    plt.xticks(tick_marks, classes, rotation=45)\n",
        "    plt.yticks(tick_marks, classes)\n",
        "    for i, j in itertools.product(range(conf_mat.shape[0]), range(conf_mat.shape[1])):\n",
        "        t = \"(%.2f)\" % (conf_mat[i, j])\n",
        "    plt.tight_layout()\n",
        "    plt.ylabel('True label')\n",
        "    plt.xlabel('Predicted label')"
      ],
      "execution_count": null,
      "outputs": []
    },
    {
      "cell_type": "markdown",
      "metadata": {
        "id": "zVLGGu69vcbo"
      },
      "source": [
        "### Validation Dataset"
      ]
    },
    {
      "cell_type": "code",
      "metadata": {
        "colab": {
          "base_uri": "https://localhost:8080/",
          "height": 173
        },
        "id": "mWpUjysAyzye",
        "outputId": "ac9e22ae-d106-450d-beaa-dea5cf281cff"
      },
      "source": [
        "val_pred = trainer.predict(valid_dataset)\n",
        "val_pred.metrics"
      ],
      "execution_count": null,
      "outputs": [
        {
          "output_type": "display_data",
          "data": {
            "text/html": [
              "\n",
              "    <div>\n",
              "      \n",
              "      <progress value='80' max='80' style='width:300px; height:20px; vertical-align: middle;'></progress>\n",
              "      [80/80 00:05]\n",
              "    </div>\n",
              "    "
            ],
            "text/plain": [
              "<IPython.core.display.HTML object>"
            ]
          },
          "metadata": {
            "tags": []
          }
        },
        {
          "output_type": "execute_result",
          "data": {
            "text/plain": [
              "{'test_f1': 0.6803343737253719,\n",
              " 'test_loss': 0.5876384377479553,\n",
              " 'test_mem_cpu_alloc_delta': 413696,\n",
              " 'test_mem_cpu_peaked_delta': 0,\n",
              " 'test_mem_gpu_alloc_delta': 0,\n",
              " 'test_mem_gpu_peaked_delta': 68601856,\n",
              " 'test_runtime': 5.3908,\n",
              " 'test_samples_per_second': 177.154}"
            ]
          },
          "metadata": {
            "tags": []
          },
          "execution_count": 25
        }
      ]
    },
    {
      "cell_type": "code",
      "metadata": {
        "id": "dQvsCDZVuMKI"
      },
      "source": [
        "validation_pred = []\n",
        "for i in range(len(val_pred.predictions)):\n",
        "  validation_pred.append(np.argmax(val_pred.predictions[i]))"
      ],
      "execution_count": null,
      "outputs": []
    },
    {
      "cell_type": "code",
      "metadata": {
        "colab": {
          "base_uri": "https://localhost:8080/",
          "height": 328
        },
        "id": "uE5PLwGI1nya",
        "outputId": "b86e7e0e-ffe1-456f-8ca3-d272bbefffe8"
      },
      "source": [
        "cnf_matrix = confusion_matrix(irony_val_distr, validation_pred)\n",
        "plot_confusion_matrix(cnf_matrix, classes=['non_irony', 'irony'], normalize=True,\n",
        "                      title='Validation Dataset Confusion matrix')"
      ],
      "execution_count": null,
      "outputs": [
        {
          "output_type": "stream",
          "text": [
            "Normalized confusion matrix\n"
          ],
          "name": "stdout"
        },
        {
          "output_type": "display_data",
          "data": {
            "image/png": "[encoded data removed]",
            "text/plain": [
              "<Figure size 432x288 with 2 Axes>"
            ]
          },
          "metadata": {
            "tags": [],
            "needs_background": "light"
          }
        }
      ]
    },
    {
      "cell_type": "code",
      "metadata": {
        "colab": {
          "base_uri": "https://localhost:8080/"
        },
        "id": "Zlz4efz63ymE",
        "outputId": "12adf368-9198-469c-c7d8-a002eea38d05"
      },
      "source": [
        "print(classification_report(irony_val_distr, validation_pred, digits=5))"
      ],
      "execution_count": null,
      "outputs": [
        {
          "output_type": "stream",
          "text": [
            "              precision    recall  f1-score   support\n",
            "\n",
            "           0    0.67748   0.75351   0.71347       499\n",
            "           1    0.69250   0.60746   0.64720       456\n",
            "\n",
            "    accuracy                        0.68377       955\n",
            "   macro avg    0.68499   0.68048   0.68033       955\n",
            "weighted avg    0.68465   0.68377   0.68183       955\n",
            "\n"
          ],
          "name": "stdout"
        }
      ]
    },
    {
      "cell_type": "markdown",
      "metadata": {
        "id": "VwuNUSqq7KVp"
      },
      "source": [
        "### Test Dataset"
      ]
    },
    {
      "cell_type": "code",
      "metadata": {
        "colab": {
          "base_uri": "https://localhost:8080/",
          "height": 173
        },
        "id": "vIB-KlFzhQbV",
        "outputId": "24a38f86-4605-43e7-e172-fa93f6c668b1"
      },
      "source": [
        "te_pred = trainer.predict(test_dataset)\n",
        "te_pred.metrics"
      ],
      "execution_count": null,
      "outputs": [
        {
          "output_type": "display_data",
          "data": {
            "text/html": [
              "\n",
              "    <div>\n",
              "      \n",
              "      <progress value='146' max='80' style='width:300px; height:20px; vertical-align: middle;'></progress>\n",
              "      [80/80 00:11]\n",
              "    </div>\n",
              "    "
            ],
            "text/plain": [
              "<IPython.core.display.HTML object>"
            ]
          },
          "metadata": {
            "tags": []
          }
        },
        {
          "output_type": "execute_result",
          "data": {
            "text/plain": [
              "{'test_f1': 0.6703476663642198,\n",
              " 'test_loss': 0.5769993662834167,\n",
              " 'test_mem_cpu_alloc_delta': 155648,\n",
              " 'test_mem_cpu_peaked_delta': 0,\n",
              " 'test_mem_gpu_alloc_delta': 0,\n",
              " 'test_mem_gpu_peaked_delta': 114506240,\n",
              " 'test_runtime': 5.6666,\n",
              " 'test_samples_per_second': 138.356}"
            ]
          },
          "metadata": {
            "tags": []
          },
          "execution_count": 29
        }
      ]
    },
    {
      "cell_type": "code",
      "metadata": {
        "id": "JgtVa7Ynrkhy"
      },
      "source": [
        "test_pred = []\n",
        "for i in range(len(te_pred.predictions)):\n",
        "  test_pred.append(np.argmax(te_pred.predictions[i]))"
      ],
      "execution_count": null,
      "outputs": []
    },
    {
      "cell_type": "code",
      "metadata": {
        "colab": {
          "base_uri": "https://localhost:8080/",
          "height": 328
        },
        "id": "10V2fDc_r9QH",
        "outputId": "9a8b7c19-685b-44b2-c0c4-55486a048fef"
      },
      "source": [
        "cnf_matrix = confusion_matrix(irony_test_distr, test_pred)\n",
        "plot_confusion_matrix(cnf_matrix, classes=['non_irony', 'irony'], normalize=True,\n",
        "                      title='Test Dataset Confusion matrix')"
      ],
      "execution_count": null,
      "outputs": [
        {
          "output_type": "stream",
          "text": [
            "Normalized confusion matrix\n"
          ],
          "name": "stdout"
        },
        {
          "output_type": "display_data",
          "data": {
            "image/png": "[encoded data removed]",
            "text/plain": [
              "<Figure size 432x288 with 2 Axes>"
            ]
          },
          "metadata": {
            "tags": [],
            "needs_background": "light"
          }
        }
      ]
    },
    {
      "cell_type": "code",
      "metadata": {
        "colab": {
          "base_uri": "https://localhost:8080/"
        },
        "id": "gv4iAJyNtOWl",
        "outputId": "57bd9150-a11e-4080-8cf8-002cf40b3464"
      },
      "source": [
        "print(classification_report(irony_test_distr, test_pred, digits=5))"
      ],
      "execution_count": null,
      "outputs": [
        {
          "output_type": "stream",
          "text": [
            "              precision    recall  f1-score   support\n",
            "\n",
            "           0    0.73739   0.74207   0.73973       473\n",
            "           1    0.60390   0.59807   0.60097       311\n",
            "\n",
            "    accuracy                        0.68495       784\n",
            "   macro avg    0.67065   0.67007   0.67035       784\n",
            "weighted avg    0.68444   0.68495   0.68468       784\n",
            "\n"
          ],
          "name": "stdout"
        }
      ]
    },
    {
      "cell_type": "markdown",
      "metadata": {
        "id": "G_wtPmlfvDid"
      },
      "source": [
        "## Saving to Google Drive"
      ]
    },
    {
      "cell_type": "code",
      "metadata": {
        "id": "OWAyCC_7u6lT"
      },
      "source": [
        "# from google.colab import drive\n",
        "# drive.mount('/content/drive')"
      ],
      "execution_count": null,
      "outputs": []
    },
    {
      "cell_type": "code",
      "metadata": {
        "id": "F5yiXlC0u697"
      },
      "source": [
        "# !cp -r ./model_emotion.pth /content/drive/MyDrive"
      ],
      "execution_count": null,
      "outputs": []
    }
  ]
}