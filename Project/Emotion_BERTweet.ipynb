{
  "nbformat": 4,
  "nbformat_minor": 0,
  "metadata": {
    "colab": {
      "name": "Emotion_BERTweet.ipynb",
      "provenance": [],
      "collapsed_sections": [
        "zVLGGu69vcbo"
      ],
      "authorship_tag": "ABX9TyN+b3enA6NgrmCUI4qsJrjZ",
      "include_colab_link": true
    },
    "kernelspec": {
      "name": "python3",
      "display_name": "Python 3"
    },
    "language_info": {
      "name": "python"
    },
    "accelerator": "GPU"
  },
  "cells": [
    {
      "cell_type": "markdown",
      "metadata": {
        "id": "view-in-github",
        "colab_type": "text"
      },
      "source": [
        "<a href=\"https://colab.research.google.com/github/faizanhemotra/CE888/blob/main/Project/Emotion_BERTweet.ipynb\" target=\"_parent\"><img src=\"https://colab.research.google.com/assets/colab-badge.svg\" alt=\"Open In Colab\"/></a>"
      ]
    },
    {
      "cell_type": "markdown",
      "metadata": {
        "id": "XjGbBLcBvXtK"
      },
      "source": [
        "##Data Set"
      ]
    },
    {
      "cell_type": "code",
      "metadata": {
        "id": "jOV5GBONvv0r"
      },
      "source": [
        "import numpy as np\n",
        "import random\n",
        "import re\n",
        "import requests"
      ],
      "execution_count": null,
      "outputs": []
    },
    {
      "cell_type": "code",
      "metadata": {
        "id": "6SJHjtu_vrvT"
      },
      "source": [
        "def shape_data(feature, label):\n",
        "    '''Returns number of rows for feature and label'''\n",
        "    return len(feature.splitlines()), len(label.splitlines())"
      ],
      "execution_count": null,
      "outputs": []
    },
    {
      "cell_type": "code",
      "metadata": {
        "colab": {
          "base_uri": "https://localhost:8080/"
        },
        "id": "82aDqK0uu_iB",
        "outputId": "bef90276-9caf-4d88-f4da-8b8bbedb8a95"
      },
      "source": [
        "emotion_train_url = 'https://raw.githubusercontent.com/cardiffnlp/tweeteval/main/datasets/emotion/train_text.txt'\n",
        "emotion_train = requests.get(emotion_train_url)\n",
        "emotion_train_labels_url = 'https://raw.githubusercontent.com/cardiffnlp/tweeteval/main/datasets/emotion/train_labels.txt'\n",
        "emotion_train_labels = requests.get(emotion_train_labels_url)\n",
        "print('Emotion Training, Label')\n",
        "shape_data(emotion_train.text, emotion_train_labels.text)"
      ],
      "execution_count": null,
      "outputs": [
        {
          "output_type": "stream",
          "text": [
            "Emotion Training, Label\n"
          ],
          "name": "stdout"
        },
        {
          "output_type": "execute_result",
          "data": {
            "text/plain": [
              "(3257, 3257)"
            ]
          },
          "metadata": {
            "tags": []
          },
          "execution_count": 3
        }
      ]
    },
    {
      "cell_type": "code",
      "metadata": {
        "colab": {
          "base_uri": "https://localhost:8080/"
        },
        "id": "1OA2E8Y3vCBk",
        "outputId": "4469db7b-49e9-4e93-bc14-a4a606e74c9d"
      },
      "source": [
        "emotion_val_url = 'https://raw.githubusercontent.com/cardiffnlp/tweeteval/main/datasets/emotion/val_text.txt'\n",
        "emotion_val = requests.get(emotion_val_url)\n",
        "emotion_val_labels_url = 'https://raw.githubusercontent.com/cardiffnlp/tweeteval/main/datasets/emotion/val_labels.txt'\n",
        "emotion_val_labels = requests.get(emotion_val_labels_url)\n",
        "print('Emotion Validation, Label')\n",
        "shape_data(emotion_val.text, emotion_val_labels.text)"
      ],
      "execution_count": null,
      "outputs": [
        {
          "output_type": "stream",
          "text": [
            "Emotion Validation, Label\n"
          ],
          "name": "stdout"
        },
        {
          "output_type": "execute_result",
          "data": {
            "text/plain": [
              "(374, 374)"
            ]
          },
          "metadata": {
            "tags": []
          },
          "execution_count": 4
        }
      ]
    },
    {
      "cell_type": "code",
      "metadata": {
        "colab": {
          "base_uri": "https://localhost:8080/"
        },
        "id": "NNQP2gUlvFbL",
        "outputId": "e032ca34-73a3-4920-96a1-653804a9d653"
      },
      "source": [
        "emotion_test_url = 'https://raw.githubusercontent.com/cardiffnlp/tweeteval/main/datasets/emotion/test_text.txt'\n",
        "emotion_test = requests.get(emotion_test_url)\n",
        "emotion_test_labels_url = 'https://raw.githubusercontent.com/cardiffnlp/tweeteval/main/datasets/emotion/test_labels.txt'\n",
        "emotion_test_labels = requests.get(emotion_test_labels_url)\n",
        "print('Emotion Test, Label')\n",
        "shape_data(emotion_test.text, emotion_test_labels.text)"
      ],
      "execution_count": null,
      "outputs": [
        {
          "output_type": "stream",
          "text": [
            "Emotion Test, Label\n"
          ],
          "name": "stdout"
        },
        {
          "output_type": "execute_result",
          "data": {
            "text/plain": [
              "(1421, 1421)"
            ]
          },
          "metadata": {
            "tags": []
          },
          "execution_count": 5
        }
      ]
    },
    {
      "cell_type": "markdown",
      "metadata": {
        "id": "CflQxHojvd3v"
      },
      "source": [
        "##Labels"
      ]
    },
    {
      "cell_type": "code",
      "metadata": {
        "id": "eCRnbGeavIEk"
      },
      "source": [
        "emotion_train_distr = list()\n",
        "for label in emotion_train_labels.text.splitlines():\n",
        "    emotion_train_distr.append(int(label))"
      ],
      "execution_count": null,
      "outputs": []
    },
    {
      "cell_type": "code",
      "metadata": {
        "id": "js06aXwZvIIG"
      },
      "source": [
        "emotion_val_distr = list()\n",
        "for label in emotion_val_labels.text.splitlines():\n",
        "    emotion_val_distr.append(int(label))\n",
        "    \n",
        "emotion_test_distr = list()\n",
        "for label in emotion_test_labels.text.splitlines():\n",
        "    emotion_test_distr.append(int(label))"
      ],
      "execution_count": null,
      "outputs": []
    },
    {
      "cell_type": "code",
      "metadata": {
        "colab": {
          "base_uri": "https://localhost:8080/"
        },
        "id": "EmPOYjgmqMN_",
        "outputId": "76b4a2a9-994e-4dda-8ec9-9f542fd83f19"
      },
      "source": [
        "labels = list(set(emotion_train_distr))\n",
        "print(labels)"
      ],
      "execution_count": null,
      "outputs": [
        {
          "output_type": "stream",
          "text": [
            "[0, 1, 2, 3]\n"
          ],
          "name": "stdout"
        }
      ]
    },
    {
      "cell_type": "code",
      "metadata": {
        "id": "XXGKNISZvTLM"
      },
      "source": [
        "def linkremover(text):\n",
        "    '''Removes t.co and instagram.com links from the data'''\n",
        "    tco = r'https?://t.co/[\\w]{10}'\n",
        "    insta = r'https?://(www.)?instagram.com/p/[-\\w]{11}/?'\n",
        "    if (re.findall(tco + '|' + insta, text) != []):\n",
        "        final = re.sub(tco + '|' + insta, '', text)\n",
        "        return final\n",
        "    else:\n",
        "        print('No links')\n",
        "    return text"
      ],
      "execution_count": null,
      "outputs": []
    },
    {
      "cell_type": "code",
      "metadata": {
        "colab": {
          "base_uri": "https://localhost:8080/"
        },
        "id": "2EIp8YGIvSDB",
        "outputId": "e6a032c0-3501-457d-baf2-5dfc13968819"
      },
      "source": [
        "emotion_tr = linkremover(emotion_train.text)\n",
        "emotion_v = linkremover(emotion_val.text)\n",
        "emotion_te = linkremover(emotion_test.text)"
      ],
      "execution_count": null,
      "outputs": [
        {
          "output_type": "stream",
          "text": [
            "No links\n",
            "No links\n",
            "No links\n"
          ],
          "name": "stdout"
        }
      ]
    },
    {
      "cell_type": "code",
      "metadata": {
        "colab": {
          "base_uri": "https://localhost:8080/"
        },
        "id": "10jcPhgnb0ih",
        "outputId": "ff759bf0-b4b4-4883-bee2-a621b9b01b50"
      },
      "source": [
        "import os\n",
        "import torch\n",
        "hftransformers = os.path.exists('/content/transformers')\n",
        "if hftransformers:\n",
        "  print('transformers already downloaded ')\n",
        "else:\n",
        "  !git clone https://github.com/huggingface/transformers.git"
      ],
      "execution_count": null,
      "outputs": [
        {
          "output_type": "stream",
          "text": [
            "transformers already downloaded \n"
          ],
          "name": "stdout"
        }
      ]
    },
    {
      "cell_type": "code",
      "metadata": {
        "colab": {
          "base_uri": "https://localhost:8080/"
        },
        "id": "Hs0Uei9VjgDj",
        "outputId": "526862eb-2af0-4683-b883-0167bebafe36"
      },
      "source": [
        "cd transformers"
      ],
      "execution_count": null,
      "outputs": [
        {
          "output_type": "stream",
          "text": [
            "/content/transformers\n"
          ],
          "name": "stdout"
        }
      ]
    },
    {
      "cell_type": "code",
      "metadata": {
        "colab": {
          "base_uri": "https://localhost:8080/"
        },
        "id": "6PaEWL_tjlFY",
        "outputId": "e14ec98a-1864-40fd-a175-ed70664a5de4"
      },
      "source": [
        "if hftransformers:\n",
        "  print('transformers already downloaded ')\n",
        "else:\n",
        "  !pip3 install --upgrade . --quiet"
      ],
      "execution_count": null,
      "outputs": [
        {
          "output_type": "stream",
          "text": [
            "transformers already downloaded \n"
          ],
          "name": "stdout"
        }
      ]
    },
    {
      "cell_type": "code",
      "metadata": {
        "colab": {
          "base_uri": "https://localhost:8080/"
        },
        "id": "uTQPD1MOcF10",
        "outputId": "f027db16-7516-433d-f2b9-6231790f934e"
      },
      "source": [
        "import importlib\n",
        "emoji = importlib.util.find_spec(\"emoji\")\n",
        "found = emoji is not None\n",
        "if found:\n",
        "  print('emoji package already exists')\n",
        "else:\n",
        "  !pip3 install emoji"
      ],
      "execution_count": null,
      "outputs": [
        {
          "output_type": "stream",
          "text": [
            "emoji package already exists\n"
          ],
          "name": "stdout"
        }
      ]
    },
    {
      "cell_type": "markdown",
      "metadata": {
        "id": "o5f9kqDu7qpg"
      },
      "source": [
        "## Tokenizing"
      ]
    },
    {
      "cell_type": "code",
      "metadata": {
        "id": "pZ8ZMdrdcVgw",
        "colab": {
          "base_uri": "https://localhost:8080/"
        },
        "outputId": "d4c36099-aae8-4cc3-f812-7b302190f242"
      },
      "source": [
        "from transformers import AutoTokenizer\n",
        "tokenizer = AutoTokenizer.from_pretrained(\"vinai/bertweet-base\", use_fast=False)"
      ],
      "execution_count": null,
      "outputs": [
        {
          "output_type": "stream",
          "text": [
            "Special tokens have been added in the vocabulary, make sure the associated word embeddings are fine-tuned or trained.\n"
          ],
          "name": "stderr"
        }
      ]
    },
    {
      "cell_type": "code",
      "metadata": {
        "id": "32ygndwLeBTD"
      },
      "source": [
        "torch.manual_seed(2)\n",
        "np.random.seed(2)"
      ],
      "execution_count": null,
      "outputs": []
    },
    {
      "cell_type": "code",
      "metadata": {
        "id": "6u4-gebBf3Er"
      },
      "source": [
        "train_encodings = tokenizer(emotion_tr.splitlines(), truncation=True, padding=True)\n",
        "valid_encodings = tokenizer(emotion_v.splitlines(), truncation=True, padding=True)\n",
        "test_encodings = tokenizer(emotion_te.splitlines(), truncation=True, padding=True)"
      ],
      "execution_count": null,
      "outputs": []
    },
    {
      "cell_type": "code",
      "metadata": {
        "id": "AVWsMT6Uj6px"
      },
      "source": [
        "class Emotion(torch.utils.data.Dataset):\n",
        "    def __init__(self, encodings, labels):\n",
        "        self.encodings = encodings\n",
        "        self.labels = labels\n",
        "\n",
        "    def __getitem__(self, idx):\n",
        "        item = {k: torch.tensor(v[idx]) for k, v in self.encodings.items()}\n",
        "        item[\"labels\"] = torch.tensor([self.labels[idx]])\n",
        "        return item\n",
        "\n",
        "    def __len__(self):\n",
        "        return len(self.labels)\n",
        "\n",
        "# convert our tokenized data into a torch Dataset\n",
        "train_dataset = Emotion(train_encodings, emotion_train_distr)\n",
        "valid_dataset = Emotion(valid_encodings, emotion_val_distr)\n",
        "test_dataset = Emotion(test_encodings, emotion_test_distr)"
      ],
      "execution_count": null,
      "outputs": []
    },
    {
      "cell_type": "markdown",
      "metadata": {
        "id": "wELfwiITwiD1"
      },
      "source": [
        "##Training"
      ]
    },
    {
      "cell_type": "code",
      "metadata": {
        "colab": {
          "base_uri": "https://localhost:8080/"
        },
        "id": "5k9ByRSTEtdS",
        "outputId": "4993c552-5e5e-4baa-a855-11b6e9815171"
      },
      "source": [
        "from sklearn.metrics import f1_score\n",
        "from transformers import RobertaForSequenceClassification, Trainer, TrainingArguments\n",
        "\n",
        "def compute_metrics(pred):\n",
        "    labels = pred.label_ids\n",
        "    preds = pred.predictions.argmax(-1)\n",
        "    f1 = f1_score(labels, preds, average='macro')\n",
        "    return {\n",
        "        'f1': f1\n",
        "    }\n",
        "\n",
        "model = RobertaForSequenceClassification.from_pretrained('vinai/bertweet-base', cache_dir='cache/', num_labels=len(labels))\n",
        "training_args = TrainingArguments(\n",
        "    output_dir='./results',          # output directory\n",
        "    num_train_epochs=6,              # total # of training epochs\n",
        "    per_device_train_batch_size=10,  # batch size per device during training\n",
        "    per_device_eval_batch_size=10,   # batch size for evaluation\n",
        "    evaluation_strategy = \"epoch\",\n",
        "    disable_tqdm=False,\n",
        "    load_best_model_at_end=True,\n",
        "    save_total_limit=7,\n",
        "    warmup_steps=500,                # number of warmup steps for learning rate scheduler\n",
        "    weight_decay=0.01,               # strength of weight decay\n",
        "    logging_steps=8,\n",
        "    logging_dir='./logs',            # directory for storing logs\n",
        "    dataloader_num_workers = 2,\n",
        "    run_name='roberta-classification'\n",
        ")\n",
        "\n",
        "trainer = Trainer(\n",
        "    model=model,                         # the instantiated 🤗 Transformers model to be trained\n",
        "    args=training_args,                  # training arguments, defined above\n",
        "    train_dataset=train_dataset,         # training dataset\n",
        "    eval_dataset=valid_dataset,          # evaluation dataset\n",
        "    compute_metrics=compute_metrics\n",
        ")"
      ],
      "execution_count": null,
      "outputs": [
        {
          "output_type": "stream",
          "text": [
            "Some weights of the model checkpoint at vinai/bertweet-base were not used when initializing RobertaForSequenceClassification: ['lm_head.bias', 'lm_head.dense.weight', 'lm_head.dense.bias', 'lm_head.layer_norm.weight', 'lm_head.layer_norm.bias', 'lm_head.decoder.weight', 'lm_head.decoder.bias', 'roberta.pooler.dense.weight', 'roberta.pooler.dense.bias']\n",
            "- This IS expected if you are initializing RobertaForSequenceClassification from the checkpoint of a model trained on another task or with another architecture (e.g. initializing a BertForSequenceClassification model from a BertForPreTraining model).\n",
            "- This IS NOT expected if you are initializing RobertaForSequenceClassification from the checkpoint of a model that you expect to be exactly identical (initializing a BertForSequenceClassification model from a BertForSequenceClassification model).\n",
            "Some weights of RobertaForSequenceClassification were not initialized from the model checkpoint at vinai/bertweet-base and are newly initialized: ['classifier.dense.weight', 'classifier.dense.bias', 'classifier.out_proj.weight', 'classifier.out_proj.bias']\n",
            "You should probably TRAIN this model on a down-stream task to be able to use it for predictions and inference.\n"
          ],
          "name": "stderr"
        }
      ]
    },
    {
      "cell_type": "code",
      "metadata": {
        "colab": {
          "base_uri": "https://localhost:8080/",
          "height": 35
        },
        "id": "Nmmt9-CKj6WB",
        "outputId": "0ff90276-08c4-41c8-d24b-1f6ea9f9f895"
      },
      "source": [
        "device = 'cuda' if torch.cuda.is_available() else 'cpu'\n",
        "device"
      ],
      "execution_count": null,
      "outputs": [
        {
          "output_type": "execute_result",
          "data": {
            "application/vnd.google.colaboratory.intrinsic+json": {
              "type": "string"
            },
            "text/plain": [
              "'cuda'"
            ]
          },
          "metadata": {
            "tags": []
          },
          "execution_count": 20
        }
      ]
    },
    {
      "cell_type": "code",
      "metadata": {
        "id": "mm7f7e5ga7_a",
        "colab": {
          "base_uri": "https://localhost:8080/"
        },
        "outputId": "82c062c0-7010-4b40-e927-21378af5ba2a"
      },
      "source": [
        "if device == 'cuda':\n",
        "  !nvidia-smi"
      ],
      "execution_count": null,
      "outputs": [
        {
          "output_type": "stream",
          "text": [
            "Tue Apr 20 10:41:00 2021       \n",
            "+-----------------------------------------------------------------------------+\n",
            "| NVIDIA-SMI 460.67       Driver Version: 460.32.03    CUDA Version: 11.2     |\n",
            "|-------------------------------+----------------------+----------------------+\n",
            "| GPU  Name        Persistence-M| Bus-Id        Disp.A | Volatile Uncorr. ECC |\n",
            "| Fan  Temp  Perf  Pwr:Usage/Cap|         Memory-Usage | GPU-Util  Compute M. |\n",
            "|                               |                      |               MIG M. |\n",
            "|===============================+======================+======================|\n",
            "|   0  Tesla T4            Off  | 00000000:00:04.0 Off |                    0 |\n",
            "| N/A   62C    P0    30W /  70W |   1622MiB / 15109MiB |      6%      Default |\n",
            "|                               |                      |                  N/A |\n",
            "+-------------------------------+----------------------+----------------------+\n",
            "                                                                               \n",
            "+-----------------------------------------------------------------------------+\n",
            "| Processes:                                                                  |\n",
            "|  GPU   GI   CI        PID   Type   Process name                  GPU Memory |\n",
            "|        ID   ID                                                   Usage      |\n",
            "|=============================================================================|\n",
            "+-----------------------------------------------------------------------------+\n"
          ],
          "name": "stdout"
        }
      ]
    },
    {
      "cell_type": "code",
      "metadata": {
        "colab": {
          "base_uri": "https://localhost:8080/",
          "height": 298
        },
        "id": "PjtxgaxiFaue",
        "outputId": "31f65d46-fa7b-415c-d2f9-194050625775"
      },
      "source": [
        "trainer.train()"
      ],
      "execution_count": null,
      "outputs": [
        {
          "output_type": "display_data",
          "data": {
            "text/html": [
              "\n",
              "    <div>\n",
              "      \n",
              "      <progress value='1956' max='1956' style='width:300px; height:20px; vertical-align: middle;'></progress>\n",
              "      [1956/1956 09:40, Epoch 6/6]\n",
              "    </div>\n",
              "    <table border=\"1\" class=\"dataframe\">\n",
              "  <thead>\n",
              "    <tr style=\"text-align: left;\">\n",
              "      <th>Epoch</th>\n",
              "      <th>Training Loss</th>\n",
              "      <th>Validation Loss</th>\n",
              "      <th>F1</th>\n",
              "    </tr>\n",
              "  </thead>\n",
              "  <tbody>\n",
              "    <tr>\n",
              "      <td>1</td>\n",
              "      <td>0.768300</td>\n",
              "      <td>0.658480</td>\n",
              "      <td>0.700283</td>\n",
              "    </tr>\n",
              "    <tr>\n",
              "      <td>2</td>\n",
              "      <td>0.773600</td>\n",
              "      <td>0.658513</td>\n",
              "      <td>0.706581</td>\n",
              "    </tr>\n",
              "    <tr>\n",
              "      <td>3</td>\n",
              "      <td>0.327100</td>\n",
              "      <td>0.695197</td>\n",
              "      <td>0.743614</td>\n",
              "    </tr>\n",
              "    <tr>\n",
              "      <td>4</td>\n",
              "      <td>0.488200</td>\n",
              "      <td>0.788874</td>\n",
              "      <td>0.722690</td>\n",
              "    </tr>\n",
              "    <tr>\n",
              "      <td>5</td>\n",
              "      <td>0.197900</td>\n",
              "      <td>0.977273</td>\n",
              "      <td>0.729228</td>\n",
              "    </tr>\n",
              "    <tr>\n",
              "      <td>6</td>\n",
              "      <td>0.155800</td>\n",
              "      <td>1.024372</td>\n",
              "      <td>0.743899</td>\n",
              "    </tr>\n",
              "  </tbody>\n",
              "</table><p>"
            ],
            "text/plain": [
              "<IPython.core.display.HTML object>"
            ]
          },
          "metadata": {
            "tags": []
          }
        },
        {
          "output_type": "execute_result",
          "data": {
            "text/plain": [
              "TrainOutput(global_step=1956, training_loss=0.42938507419148103, metrics={'train_runtime': 581.1953, 'train_samples_per_second': 3.365, 'total_flos': 1391953350927744.0, 'epoch': 6.0, 'init_mem_cpu_alloc_delta': 2260852736, 'init_mem_gpu_alloc_delta': 540135424, 'init_mem_cpu_peaked_delta': 0, 'init_mem_gpu_peaked_delta': 0, 'train_mem_cpu_alloc_delta': 74481664, 'train_mem_gpu_alloc_delta': 1640918528, 'train_mem_cpu_peaked_delta': 136056832, 'train_mem_gpu_peaked_delta': 719130624})"
            ]
          },
          "metadata": {
            "tags": []
          },
          "execution_count": 22
        }
      ]
    },
    {
      "cell_type": "code",
      "metadata": {
        "id": "5QPrpgfbKwAM"
      },
      "source": [
        "torch.save(model.state_dict(), 'model_RoB_emotion.pth')"
      ],
      "execution_count": null,
      "outputs": []
    },
    {
      "cell_type": "markdown",
      "metadata": {
        "id": "mnccrh-o7RkH"
      },
      "source": [
        "## Evaluations"
      ]
    },
    {
      "cell_type": "code",
      "metadata": {
        "id": "84lcDxy73m2L"
      },
      "source": [
        "import itertools\n",
        "import matplotlib.pyplot as plt\n",
        "from sklearn.metrics import classification_report\n",
        "from sklearn.metrics import confusion_matrix"
      ],
      "execution_count": null,
      "outputs": []
    },
    {
      "cell_type": "code",
      "metadata": {
        "id": "ZHeaEq-evT7B"
      },
      "source": [
        "def plot_confusion_matrix(conf_mat, classes,\n",
        "                          normalize=False,\n",
        "                          title='Confusion matrix',\n",
        "                          cmap=plt.cm.Blues):\n",
        "    \"\"\"\n",
        "    This function prints and plots the confusion matrix.\n",
        "    Normalization can be applied by setting `normalize=True`.\n",
        "    conf_mat: confusion matrix\n",
        "    classes: names of classes to be annotated\n",
        "    normalize: [True/False] whether to normalise by column\n",
        "    \"\"\"\n",
        "    if normalize:\n",
        "        conf_mat = conf_mat.astype('float') / conf_mat.sum(axis=1)[:, np.newaxis]\n",
        "        print(\"Normalized confusion matrix\")\n",
        "    else:\n",
        "        print('Confusion matrix, without normalization')\n",
        "    plt.imshow(conf_mat, interpolation='nearest', cmap=cmap)\n",
        "    plt.title(title)\n",
        "    plt.colorbar()\n",
        "    tick_marks = np.arange(len(classes))\n",
        "    plt.xticks(tick_marks, classes, rotation=45)\n",
        "    plt.yticks(tick_marks, classes)\n",
        "    for i, j in itertools.product(range(conf_mat.shape[0]), range(conf_mat.shape[1])):\n",
        "        t = \"(%.2f)\" % (conf_mat[i, j])\n",
        "    plt.tight_layout()\n",
        "    plt.ylabel('True label')\n",
        "    plt.xlabel('Predicted label')"
      ],
      "execution_count": null,
      "outputs": []
    },
    {
      "cell_type": "markdown",
      "metadata": {
        "id": "zVLGGu69vcbo"
      },
      "source": [
        "### Validation Dataset"
      ]
    },
    {
      "cell_type": "code",
      "metadata": {
        "colab": {
          "base_uri": "https://localhost:8080/",
          "height": 173
        },
        "id": "mWpUjysAyzye",
        "outputId": "aeffa498-c6e5-46a0-b2da-ad8b40e94cbf"
      },
      "source": [
        "val_pred = trainer.predict(valid_dataset)\n",
        "val_pred.metrics"
      ],
      "execution_count": null,
      "outputs": [
        {
          "output_type": "display_data",
          "data": {
            "text/html": [
              "\n",
              "    <div>\n",
              "      \n",
              "      <progress value='38' max='38' style='width:300px; height:20px; vertical-align: middle;'></progress>\n",
              "      [38/38 00:01]\n",
              "    </div>\n",
              "    "
            ],
            "text/plain": [
              "<IPython.core.display.HTML object>"
            ]
          },
          "metadata": {
            "tags": []
          }
        },
        {
          "output_type": "execute_result",
          "data": {
            "text/plain": [
              "{'test_f1': 0.700282859102074,\n",
              " 'test_loss': 0.6584799885749817,\n",
              " 'test_mem_cpu_alloc_delta': 4096,\n",
              " 'test_mem_cpu_peaked_delta': 61440,\n",
              " 'test_mem_gpu_alloc_delta': 0,\n",
              " 'test_mem_gpu_peaked_delta': 22299136,\n",
              " 'test_runtime': 1.6892,\n",
              " 'test_samples_per_second': 221.407}"
            ]
          },
          "metadata": {
            "tags": []
          },
          "execution_count": 26
        }
      ]
    },
    {
      "cell_type": "code",
      "metadata": {
        "id": "dQvsCDZVuMKI"
      },
      "source": [
        "validation_pred = []\n",
        "for i in range(len(val_pred.predictions)):\n",
        "  validation_pred.append(np.argmax(val_pred.predictions[i]))"
      ],
      "execution_count": null,
      "outputs": []
    },
    {
      "cell_type": "code",
      "metadata": {
        "colab": {
          "base_uri": "https://localhost:8080/",
          "height": 328
        },
        "id": "uE5PLwGI1nya",
        "outputId": "a55f15ae-6786-4e58-ba8e-97ae3017bde6"
      },
      "source": [
        "cnf_matrix = confusion_matrix(emotion_val_distr, validation_pred)\n",
        "plot_confusion_matrix(cnf_matrix, classes=['anger', 'joy', 'optimism', 'sadness'], normalize=True,\n",
        "                      title='Validation Dataset Confusion matrix')"
      ],
      "execution_count": null,
      "outputs": [
        {
          "output_type": "stream",
          "text": [
            "Normalized confusion matrix\n"
          ],
          "name": "stdout"
        },
        {
          "output_type": "display_data",
          "data": {
            "image/png": "[encoded data removed]",
            "text/plain": [
              "<Figure size 432x288 with 2 Axes>"
            ]
          },
          "metadata": {
            "tags": [],
            "needs_background": "light"
          }
        }
      ]
    },
    {
      "cell_type": "code",
      "metadata": {
        "colab": {
          "base_uri": "https://localhost:8080/"
        },
        "id": "Zlz4efz63ymE",
        "outputId": "945a150c-7aa1-46e8-c441-dd83831afb02"
      },
      "source": [
        "print(classification_report(emotion_val_distr, validation_pred, digits=5))"
      ],
      "execution_count": null,
      "outputs": [
        {
          "output_type": "stream",
          "text": [
            "              precision    recall  f1-score   support\n",
            "\n",
            "           0    0.88079   0.83125   0.85531       160\n",
            "           1    0.83333   0.67010   0.74286        97\n",
            "           2    0.57895   0.39286   0.46809        28\n",
            "           3    0.62698   0.88764   0.73488        89\n",
            "\n",
            "    accuracy                        0.77005       374\n",
            "   macro avg    0.73001   0.69546   0.70028       374\n",
            "weighted avg    0.78549   0.77005   0.76849       374\n",
            "\n"
          ],
          "name": "stdout"
        }
      ]
    },
    {
      "cell_type": "markdown",
      "metadata": {
        "id": "VwuNUSqq7KVp"
      },
      "source": [
        "### Test Dataset"
      ]
    },
    {
      "cell_type": "code",
      "metadata": {
        "colab": {
          "base_uri": "https://localhost:8080/",
          "height": 173
        },
        "id": "vIB-KlFzhQbV",
        "outputId": "ffecc522-b686-4fbd-9758-7bcccc44163a"
      },
      "source": [
        "te_pred = trainer.predict(test_dataset)\n",
        "te_pred.metrics"
      ],
      "execution_count": null,
      "outputs": [
        {
          "output_type": "display_data",
          "data": {
            "text/html": [
              "\n",
              "    <div>\n",
              "      \n",
              "      <progress value='181' max='38' style='width:300px; height:20px; vertical-align: middle;'></progress>\n",
              "      [38/38 00:07]\n",
              "    </div>\n",
              "    "
            ],
            "text/plain": [
              "<IPython.core.display.HTML object>"
            ]
          },
          "metadata": {
            "tags": []
          }
        },
        {
          "output_type": "execute_result",
          "data": {
            "text/plain": [
              "{'test_f1': 0.7618719633410159,\n",
              " 'test_loss': 0.6260998249053955,\n",
              " 'test_mem_cpu_alloc_delta': -8192,\n",
              " 'test_mem_cpu_peaked_delta': 24576,\n",
              " 'test_mem_gpu_alloc_delta': 0,\n",
              " 'test_mem_gpu_peaked_delta': 28948480,\n",
              " 'test_runtime': 5.4927,\n",
              " 'test_samples_per_second': 258.706}"
            ]
          },
          "metadata": {
            "tags": []
          },
          "execution_count": 30
        }
      ]
    },
    {
      "cell_type": "code",
      "metadata": {
        "id": "JgtVa7Ynrkhy"
      },
      "source": [
        "test_pred = []\n",
        "for i in range(len(te_pred.predictions)):\n",
        "  test_pred.append(np.argmax(te_pred.predictions[i]))"
      ],
      "execution_count": null,
      "outputs": []
    },
    {
      "cell_type": "code",
      "metadata": {
        "colab": {
          "base_uri": "https://localhost:8080/",
          "height": 328
        },
        "id": "10V2fDc_r9QH",
        "outputId": "c819f82b-1499-4cdf-fc1c-21de11717557"
      },
      "source": [
        "cnf_matrix = confusion_matrix(emotion_test_distr, test_pred)\n",
        "plot_confusion_matrix(cnf_matrix, classes=['anger', 'joy', 'optimism', 'sadness'], normalize=True,\n",
        "                      title='Test Dataset Confusion matrix')"
      ],
      "execution_count": null,
      "outputs": [
        {
          "output_type": "stream",
          "text": [
            "Normalized confusion matrix\n"
          ],
          "name": "stdout"
        },
        {
          "output_type": "display_data",
          "data": {
            "image/png": "[encoded data removed]",
            "text/plain": [
              "<Figure size 432x288 with 2 Axes>"
            ]
          },
          "metadata": {
            "tags": [],
            "needs_background": "light"
          }
        }
      ]
    },
    {
      "cell_type": "code",
      "metadata": {
        "colab": {
          "base_uri": "https://localhost:8080/"
        },
        "id": "gv4iAJyNtOWl",
        "outputId": "9d194aba-816a-497d-f1a5-6a73ee9871d2"
      },
      "source": [
        "print(classification_report(emotion_test_distr, test_pred, digits=5))"
      ],
      "execution_count": null,
      "outputs": [
        {
          "output_type": "stream",
          "text": [
            "              precision    recall  f1-score   support\n",
            "\n",
            "           0    0.86542   0.82975   0.84721       558\n",
            "           1    0.85329   0.79609   0.82370       358\n",
            "           2    0.81081   0.48780   0.60914       123\n",
            "           3    0.69038   0.86387   0.76744       382\n",
            "\n",
            "    accuracy                        0.80084      1421\n",
            "   macro avg    0.80498   0.74438   0.76187      1421\n",
            "weighted avg    0.81058   0.80084   0.79924      1421\n",
            "\n"
          ],
          "name": "stdout"
        }
      ]
    },
    {
      "cell_type": "markdown",
      "metadata": {
        "id": "G_wtPmlfvDid"
      },
      "source": [
        "## Saving to Google Drive"
      ]
    },
    {
      "cell_type": "code",
      "metadata": {
        "id": "OWAyCC_7u6lT"
      },
      "source": [
        "# from google.colab import drive\n",
        "# drive.mount('/content/drive')"
      ],
      "execution_count": null,
      "outputs": []
    },
    {
      "cell_type": "code",
      "metadata": {
        "id": "F5yiXlC0u697"
      },
      "source": [
        "# !cp -r ./model_emotion.pth /content/drive/MyDrive"
      ],
      "execution_count": null,
      "outputs": []
    }
  ]
}