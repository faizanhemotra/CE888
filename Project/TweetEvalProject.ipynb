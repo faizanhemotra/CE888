{
  "nbformat": 4,
  "nbformat_minor": 0,
  "metadata": {
    "kernelspec": {
      "display_name": "Python 3",
      "language": "python",
      "name": "python3"
    },
    "language_info": {
      "codemirror_mode": {
        "name": "ipython",
        "version": 3
      },
      "file_extension": ".py",
      "mimetype": "text/x-python",
      "name": "python",
      "nbconvert_exporter": "python",
      "pygments_lexer": "ipython3",
      "version": "3.8.5"
    },
    "colab": {
      "name": "TweetEvalProject.ipynb",
      "provenance": [],
      "include_colab_link": true
    }
  },
  "cells": [
    {
      "cell_type": "markdown",
      "metadata": {
        "id": "view-in-github",
        "colab_type": "text"
      },
      "source": [
        "<a href=\"https://colab.research.google.com/github/faizanhemotra/CE888/blob/main/Project/TweetEvalProject.ipynb\" target=\"_parent\"><img src=\"https://colab.research.google.com/assets/colab-badge.svg\" alt=\"Open In Colab\"/></a>"
      ]
    },
    {
      "cell_type": "code",
      "metadata": {
        "id": "kMPqbTEFOtIO"
      },
      "source": [
        "%matplotlib inline\n",
        "import matplotlib as mpl\n",
        "import matplotlib.pyplot as plt\n",
        "import numpy as np\n",
        "import pandas as pd\n",
        "import re\n",
        "import requests"
      ],
      "execution_count": null,
      "outputs": []
    },
    {
      "cell_type": "code",
      "metadata": {
        "id": "YoEDSCkmOtIU"
      },
      "source": [
        "def shape_data(feature, label):\n",
        "    '''Returns number of rows for feature and label'''\n",
        "    return len(feature.splitlines()), len(label.splitlines())"
      ],
      "execution_count": null,
      "outputs": []
    },
    {
      "cell_type": "code",
      "metadata": {
        "id": "4H76iuMkOtIU",
        "outputId": "189541a2-48e7-4524-8246-7b2079ced2df"
      },
      "source": [
        "emoji_train_url = 'https://raw.githubusercontent.com/cardiffnlp/tweeteval/main/datasets/emoji/train_text.txt'\n",
        "emoji_train = requests.get(emoji_train_url)\n",
        "emoji_train_labels_url = 'https://raw.githubusercontent.com/cardiffnlp/tweeteval/main/datasets/emoji/train_labels.txt'\n",
        "emoji_train_labels = requests.get(emoji_train_labels_url)\n",
        "print('Emoji Training, Label')\n",
        "shape_data(emoji_train.text, emoji_train_labels.text)"
      ],
      "execution_count": null,
      "outputs": [
        {
          "output_type": "stream",
          "text": [
            "Emoji Training, Label\n"
          ],
          "name": "stdout"
        },
        {
          "output_type": "execute_result",
          "data": {
            "text/plain": [
              "(45000, 45000)"
            ]
          },
          "metadata": {
            "tags": []
          },
          "execution_count": 3
        }
      ]
    },
    {
      "cell_type": "code",
      "metadata": {
        "id": "OWgpzI_kOtIV",
        "outputId": "ed7c1b27-1991-4efb-8279-61976dd4341b"
      },
      "source": [
        "emoji_val_url = 'https://raw.githubusercontent.com/cardiffnlp/tweeteval/main/datasets/emoji/val_text.txt'\n",
        "emoji_val = requests.get(emoji_val_url)\n",
        "emoji_val_labels_url = 'https://raw.githubusercontent.com/cardiffnlp/tweeteval/main/datasets/emoji/val_labels.txt'\n",
        "emoji_val_labels = requests.get(emoji_val_labels_url)\n",
        "print('Emoji Validation, Label')\n",
        "shape_data(emoji_val.text, emoji_val_labels.text)"
      ],
      "execution_count": null,
      "outputs": [
        {
          "output_type": "stream",
          "text": [
            "Emoji Validation, Label\n"
          ],
          "name": "stdout"
        },
        {
          "output_type": "execute_result",
          "data": {
            "text/plain": [
              "(5000, 5000)"
            ]
          },
          "metadata": {
            "tags": []
          },
          "execution_count": 4
        }
      ]
    },
    {
      "cell_type": "code",
      "metadata": {
        "id": "dHNLm6v6OtIW",
        "outputId": "e756ef7e-2855-410c-d883-42720525e459"
      },
      "source": [
        "emoji_test_url = 'https://raw.githubusercontent.com/cardiffnlp/tweeteval/main/datasets/emoji/test_text.txt'\n",
        "emoji_test = requests.get(emoji_test_url)\n",
        "emoji_test_labels_url = 'https://raw.githubusercontent.com/cardiffnlp/tweeteval/main/datasets/emoji/test_labels.txt'\n",
        "emoji_test_labels = requests.get(emoji_test_labels_url)\n",
        "print('Emoji Test, Label')\n",
        "shape_data(emoji_test.text, emoji_test_labels.text)"
      ],
      "execution_count": null,
      "outputs": [
        {
          "output_type": "stream",
          "text": [
            "Emoji Test, Label\n"
          ],
          "name": "stdout"
        },
        {
          "output_type": "execute_result",
          "data": {
            "text/plain": [
              "(50000, 50000)"
            ]
          },
          "metadata": {
            "tags": []
          },
          "execution_count": 5
        }
      ]
    },
    {
      "cell_type": "code",
      "metadata": {
        "id": "wzb8YsxbOtIX",
        "outputId": "3118a013-c9cf-42c6-bd01-32b47d28d471"
      },
      "source": [
        "emotion_train_url = 'https://raw.githubusercontent.com/cardiffnlp/tweeteval/main/datasets/emotion/train_text.txt'\n",
        "emotion_train = requests.get(emotion_train_url)\n",
        "emotion_train_labels_url = 'https://raw.githubusercontent.com/cardiffnlp/tweeteval/main/datasets/emotion/train_labels.txt'\n",
        "emotion_train_labels = requests.get(emotion_train_labels_url)\n",
        "print('Emotion Training, Label')\n",
        "shape_data(emotion_train.text, emotion_train_labels.text)"
      ],
      "execution_count": null,
      "outputs": [
        {
          "output_type": "stream",
          "text": [
            "Emotion Training, Label\n"
          ],
          "name": "stdout"
        },
        {
          "output_type": "execute_result",
          "data": {
            "text/plain": [
              "(3257, 3257)"
            ]
          },
          "metadata": {
            "tags": []
          },
          "execution_count": 6
        }
      ]
    },
    {
      "cell_type": "code",
      "metadata": {
        "id": "eGN_IPe8OtIX",
        "outputId": "4dfb8be8-f403-4d2e-ff17-2b2c137e8229"
      },
      "source": [
        "emotion_val_url = 'https://raw.githubusercontent.com/cardiffnlp/tweeteval/main/datasets/emotion/val_text.txt'\n",
        "emotion_val = requests.get(emotion_val_url)\n",
        "emotion_val_labels_url = 'https://raw.githubusercontent.com/cardiffnlp/tweeteval/main/datasets/emotion/val_labels.txt'\n",
        "emotion_val_labels = requests.get(emotion_val_labels_url)\n",
        "print('Emotion Validation, Label')\n",
        "shape_data(emotion_val.text, emotion_val_labels.text)"
      ],
      "execution_count": null,
      "outputs": [
        {
          "output_type": "stream",
          "text": [
            "Emotion Validation, Label\n"
          ],
          "name": "stdout"
        },
        {
          "output_type": "execute_result",
          "data": {
            "text/plain": [
              "(374, 374)"
            ]
          },
          "metadata": {
            "tags": []
          },
          "execution_count": 7
        }
      ]
    },
    {
      "cell_type": "code",
      "metadata": {
        "id": "Kz0-x2wLOtIY",
        "outputId": "0c134d7d-cbe4-432a-f8a9-09be160b9a03"
      },
      "source": [
        "emotion_test_url = 'https://raw.githubusercontent.com/cardiffnlp/tweeteval/main/datasets/emotion/test_text.txt'\n",
        "emotion_test = requests.get(emotion_test_url)\n",
        "emotion_test_labels_url = 'https://raw.githubusercontent.com/cardiffnlp/tweeteval/main/datasets/emotion/test_labels.txt'\n",
        "emotion_test_labels = requests.get(emotion_test_labels_url)\n",
        "print('Emotion Test, Label')\n",
        "shape_data(emotion_test.text, emotion_test_labels.text)"
      ],
      "execution_count": null,
      "outputs": [
        {
          "output_type": "stream",
          "text": [
            "Emotion Test, Label\n"
          ],
          "name": "stdout"
        },
        {
          "output_type": "execute_result",
          "data": {
            "text/plain": [
              "(1421, 1421)"
            ]
          },
          "metadata": {
            "tags": []
          },
          "execution_count": 8
        }
      ]
    },
    {
      "cell_type": "code",
      "metadata": {
        "id": "v8DZtBJNOtIY",
        "outputId": "af892183-cd6c-4d74-b9ae-1c03589da5aa"
      },
      "source": [
        "irony_train_url = 'https://raw.githubusercontent.com/cardiffnlp/tweeteval/main/datasets/irony/train_text.txt'\n",
        "irony_train = requests.get(irony_train_url)\n",
        "irony_train_labels_url = 'https://raw.githubusercontent.com/cardiffnlp/tweeteval/main/datasets/irony/train_labels.txt'\n",
        "irony_train_labels = requests.get(irony_train_labels_url)\n",
        "print('Irony Training, Label')\n",
        "shape_data(irony_train.text, irony_train_labels.text)"
      ],
      "execution_count": null,
      "outputs": [
        {
          "output_type": "stream",
          "text": [
            "Irony Training, Label\n"
          ],
          "name": "stdout"
        },
        {
          "output_type": "execute_result",
          "data": {
            "text/plain": [
              "(2862, 2862)"
            ]
          },
          "metadata": {
            "tags": []
          },
          "execution_count": 9
        }
      ]
    },
    {
      "cell_type": "code",
      "metadata": {
        "id": "667_BKcDOtIZ",
        "outputId": "708505b2-1b33-435c-f2d3-9be9e59b7531"
      },
      "source": [
        "irony_val_url = 'https://raw.githubusercontent.com/cardiffnlp/tweeteval/main/datasets/irony/val_text.txt'\n",
        "irony_val = requests.get(irony_val_url)\n",
        "irony_val_labels_url = 'https://raw.githubusercontent.com/cardiffnlp/tweeteval/main/datasets/irony/val_labels.txt'\n",
        "irony_val_labels = requests.get(irony_val_labels_url)\n",
        "print('Irony Validation, Label')\n",
        "shape_data(irony_val.text, irony_val_labels.text)"
      ],
      "execution_count": null,
      "outputs": [
        {
          "output_type": "stream",
          "text": [
            "Irony Validation, Label\n"
          ],
          "name": "stdout"
        },
        {
          "output_type": "execute_result",
          "data": {
            "text/plain": [
              "(955, 955)"
            ]
          },
          "metadata": {
            "tags": []
          },
          "execution_count": 10
        }
      ]
    },
    {
      "cell_type": "code",
      "metadata": {
        "id": "QE-sml-EOtIZ",
        "outputId": "979901f2-f0f2-44c2-b57c-7cd680a08617"
      },
      "source": [
        "irony_test_url = 'https://raw.githubusercontent.com/cardiffnlp/tweeteval/main/datasets/irony/test_text.txt'\n",
        "irony_test = requests.get(irony_test_url)\n",
        "irony_test_labels_url = 'https://raw.githubusercontent.com/cardiffnlp/tweeteval/main/datasets/irony/test_labels.txt'\n",
        "irony_test_labels = requests.get(irony_test_labels_url)\n",
        "print('Irony Test, Label')\n",
        "shape_data(irony_test.text, irony_test_labels.text)"
      ],
      "execution_count": null,
      "outputs": [
        {
          "output_type": "stream",
          "text": [
            "Irony Test, Label\n"
          ],
          "name": "stdout"
        },
        {
          "output_type": "execute_result",
          "data": {
            "text/plain": [
              "(784, 784)"
            ]
          },
          "metadata": {
            "tags": []
          },
          "execution_count": 11
        }
      ]
    },
    {
      "cell_type": "markdown",
      "metadata": {
        "id": "w8qXXfJfOtIa"
      },
      "source": [
        "## Visualisation"
      ]
    },
    {
      "cell_type": "markdown",
      "metadata": {
        "id": "NrV8FBAVOtIa"
      },
      "source": [
        "### Emoji"
      ]
    },
    {
      "cell_type": "code",
      "metadata": {
        "id": "Ey4WU71wOtIa",
        "outputId": "578f6eec-0cfa-4b8e-8d52-a364193ee852"
      },
      "source": [
        "emoji_train_distr = list()\n",
        "for label in emoji_train_labels.text.splitlines():\n",
        "    emoji_train_distr.append(int(label))\n",
        "emojifont = {'fontname':'Segoe UI Emoji'} # Font included only in Microsoft Windows\n",
        "labels = ['❤', '😍', '😂', '💕', '🔥', '😊', '😎', '✨', '💙', '😘', '📷', '🇺🇸', '☀', '💜', '😉', '💯', '😁', '🎄', '📸', '😜']\n",
        "fig1, ax1 = plt.subplots()\n",
        "ax1.pie([emoji_train_distr.count(i) for i in range(20)], labels=labels, textprops=emojifont)\n",
        "ax1.axis('equal')\n",
        "# ax1.set_title(\"Emoji Training Distribution\")\n",
        "plt.savefig('emoji_train_distr.png', dpi=300)\n",
        "plt.show()"
      ],
      "execution_count": null,
      "outputs": [
        {
          "output_type": "display_data",
          "data": {
            "image/png": "[encoded data removed]",
            "text/plain": [
              "<Figure size 432x288 with 1 Axes>"
            ]
          },
          "metadata": {
            "tags": []
          }
        }
      ]
    },
    {
      "cell_type": "code",
      "metadata": {
        "id": "vRlOGCQ9OtIb",
        "outputId": "86a8b304-e68a-4b03-d4de-e4eb18b13764"
      },
      "source": [
        "mpl.rcParams['font.sans-serif'] = \"Segoe UI Emoji\" # Font included only in Microsoft Windows\n",
        "emoji_val_distr = list()\n",
        "for label in emoji_val_labels.text.splitlines():\n",
        "    emoji_val_distr.append(int(label))\n",
        "    \n",
        "emoji_test_distr = list()\n",
        "for label in emoji_test_labels.text.splitlines():\n",
        "    emoji_test_distr.append(int(label))\n",
        "    \n",
        "fig, ax = plt.subplots()\n",
        "ax.bar(labels, [emoji_test_distr.count(i) for i in range(20)], label='Emoji Test Distribution')\n",
        "ax.bar(labels, [emoji_val_distr.count(i) for i in range(20)], label='Emoji Validation Distribution')\n",
        "ax.set_ylabel('Entries')\n",
        "# ax.set_title('Emoji Dataset')\n",
        "ax.legend()\n",
        "plt.savefig('emoji_val-test_bar.png', dpi=300)\n",
        "plt.show()"
      ],
      "execution_count": null,
      "outputs": [
        {
          "output_type": "display_data",
          "data": {
            "image/png": "[encoded data removed]",
            "text/plain": [
              "<Figure size 432x288 with 1 Axes>"
            ]
          },
          "metadata": {
            "tags": [],
            "needs_background": "light"
          }
        }
      ]
    },
    {
      "cell_type": "markdown",
      "metadata": {
        "id": "Z_8Mbo3sOtIb"
      },
      "source": [
        "### Emotion"
      ]
    },
    {
      "cell_type": "code",
      "metadata": {
        "id": "073NljHhOtIc",
        "outputId": "98ea973c-fbd8-4cc4-804e-cdb50d983f67"
      },
      "source": [
        "emotion_train_distr = list()\n",
        "for label in emotion_train_labels.text.splitlines():\n",
        "    emotion_train_distr.append(int(label))\n",
        "labels = ['anger', 'joy', 'optimism', 'sadness']\n",
        "fig1, ax1 = plt.subplots()\n",
        "ax1.pie([emotion_train_distr.count(i) for i in range(4)], labels=labels, autopct='%1.1f%%')\n",
        "# ax1.set_title(\"Emotion Training Distribution\")\n",
        "ax1.axis('equal')\n",
        "plt.savefig('emotion_train_distr.png', dpi=300)\n",
        "plt.show()"
      ],
      "execution_count": null,
      "outputs": [
        {
          "output_type": "display_data",
          "data": {
            "image/png": "[encoded data removed]",
            "text/plain": [
              "<Figure size 432x288 with 1 Axes>"
            ]
          },
          "metadata": {
            "tags": []
          }
        }
      ]
    },
    {
      "cell_type": "code",
      "metadata": {
        "id": "qxqO24cgOtIc",
        "outputId": "62f0e71b-6e0a-4005-b423-88b99f59b899"
      },
      "source": [
        "emotion_val_distr = list()\n",
        "for label in emotion_val_labels.text.splitlines():\n",
        "    emotion_val_distr.append(int(label))\n",
        "    \n",
        "emotion_test_distr = list()\n",
        "for label in emotion_test_labels.text.splitlines():\n",
        "    emotion_test_distr.append(int(label))\n",
        "    \n",
        "fig, ax = plt.subplots()\n",
        "ax.bar(labels, [emotion_test_distr.count(i) for i in range(4)], label='Emotion Test Distribution')\n",
        "ax.bar(labels, [emotion_val_distr.count(i) for i in range(4)], label='Emotion Validation Distribution')\n",
        "ax.set_ylabel('Entries')\n",
        "# ax.set_title('Emotion Dataset')\n",
        "ax.legend()\n",
        "plt.savefig('emotion_val-test_bar.png', dpi=300)\n",
        "plt.show()"
      ],
      "execution_count": null,
      "outputs": [
        {
          "output_type": "display_data",
          "data": {
            "image/png": "[encoded data removed]",
            "text/plain": [
              "<Figure size 432x288 with 1 Axes>"
            ]
          },
          "metadata": {
            "tags": [],
            "needs_background": "light"
          }
        }
      ]
    },
    {
      "cell_type": "markdown",
      "metadata": {
        "id": "QYl9pneUOtId"
      },
      "source": [
        "### Irony"
      ]
    },
    {
      "cell_type": "code",
      "metadata": {
        "id": "gTYkwJvZOtId",
        "outputId": "d5244188-3cf0-4eb1-9cb6-c66fe3090f1e"
      },
      "source": [
        "irony_train_distr = list()\n",
        "for label in irony_train_labels.text.splitlines():\n",
        "    irony_train_distr.append(int(label))\n",
        "labels = ['non_irony', 'irony']\n",
        "fig1, ax1 = plt.subplots()\n",
        "ax1.pie([irony_train_distr.count(i) for i in range(2)], labels=labels, autopct='%1.1f%%')\n",
        "ax1.axis('equal')\n",
        "# ax1.set_title(\"Irony Training Distribution\")\n",
        "plt.savefig('irony_train_distr.png', dpi=300)\n",
        "plt.show()"
      ],
      "execution_count": null,
      "outputs": [
        {
          "output_type": "display_data",
          "data": {
            "image/png": "[encoded data removed]",
            "text/plain": [
              "<Figure size 432x288 with 1 Axes>"
            ]
          },
          "metadata": {
            "tags": []
          }
        }
      ]
    },
    {
      "cell_type": "code",
      "metadata": {
        "id": "jyFMxVefOtId",
        "outputId": "fb91930f-23ef-459a-893c-ec1e1d0b7b2f"
      },
      "source": [
        "irony_val_distr = list()\n",
        "for label in irony_val_labels.text.splitlines():\n",
        "    irony_val_distr.append(int(label))\n",
        "    \n",
        "irony_test_distr = list()\n",
        "for label in irony_test_labels.text.splitlines():\n",
        "    irony_test_distr.append(int(label))\n",
        "    \n",
        "fig, ax = plt.subplots()\n",
        "ax.bar(labels, [irony_val_distr.count(i) for i in range(2)], label='Irony Validation Distribution')\n",
        "ax.bar(labels, [irony_test_distr.count(i) for i in range(2)], label='Irony Test Distribution')\n",
        "ax.set_ylabel('Entries')\n",
        "# ax.set_title('Irony Dataset')\n",
        "ax.legend()\n",
        "plt.savefig('irony_val-test_bar.png', dpi=300)\n",
        "plt.show()"
      ],
      "execution_count": null,
      "outputs": [
        {
          "output_type": "display_data",
          "data": {
            "image/png": "[encoded data removed]",
            "text/plain": [
              "<Figure size 432x288 with 1 Axes>"
            ]
          },
          "metadata": {
            "tags": [],
            "needs_background": "light"
          }
        }
      ]
    },
    {
      "cell_type": "markdown",
      "metadata": {
        "id": "1cbLGpnGOtIe"
      },
      "source": [
        "## Removal of links"
      ]
    },
    {
      "cell_type": "code",
      "metadata": {
        "id": "TQ7QMdfQOtIe"
      },
      "source": [
        "def linkremover(text):\n",
        "    '''Removes t.co and instagram.com links from the data'''\n",
        "    tco = r'https?://t.co/[\\w]{10}'\n",
        "    insta = r'https?://(www.)?instagram.com/p/[-\\w]{11}/?'\n",
        "    if (re.findall(tco + '|' + insta, text) != []):\n",
        "        final = re.sub(tco + '|' + insta, '', text)\n",
        "        return final\n",
        "    else:\n",
        "        print('No links')\n",
        "    return text    \n",
        "emoji_tr = linkremover(emoji_train.text)\n",
        "emoji_v = linkremover(emoji_val.text)\n",
        "emoji_te = linkremover(emoji_test.text)"
      ],
      "execution_count": null,
      "outputs": []
    },
    {
      "cell_type": "code",
      "metadata": {
        "id": "EksXUNH_OtIe",
        "outputId": "066dc6a1-95be-4cc2-e34a-02beaa056a7a"
      },
      "source": [
        "emotion_tr = linkremover(emotion_train.text)\n",
        "emotion_v = linkremover(emotion_val.text)\n",
        "emotion_te = linkremover(emotion_test.text)"
      ],
      "execution_count": null,
      "outputs": [
        {
          "output_type": "stream",
          "text": [
            "No links\n",
            "No links\n",
            "No links\n"
          ],
          "name": "stdout"
        }
      ]
    },
    {
      "cell_type": "code",
      "metadata": {
        "id": "ZdGL6enbOtIf"
      },
      "source": [
        "irony_tr = linkremover(irony_train.text)\n",
        "irony_v = linkremover(irony_val.text)\n",
        "irony_te = linkremover(irony_test.text)"
      ],
      "execution_count": null,
      "outputs": []
    },
    {
      "cell_type": "markdown",
      "metadata": {
        "id": "3CHWwo_iOtIf"
      },
      "source": [
        "## Conversion to DataFrame"
      ]
    },
    {
      "cell_type": "code",
      "metadata": {
        "id": "uS9eJsBKOtIf"
      },
      "source": [
        "def convdf(col1, col2, label1, label2= 'Label'):\n",
        "    '''converts data to dataframe'''\n",
        "    return pd.DataFrame({label1: list(col1.splitlines()), label2: np.array(col2)})"
      ],
      "execution_count": null,
      "outputs": []
    },
    {
      "cell_type": "markdown",
      "metadata": {
        "id": "7L0r5TJ5OtIf"
      },
      "source": [
        "### Emoji DataFrames"
      ]
    },
    {
      "cell_type": "code",
      "metadata": {
        "id": "gi9Zs0f7OtIg"
      },
      "source": [
        "df_emoji_tr = convdf(emoji_tr, emoji_train_distr, 'Emoji')\n",
        "df_emoji_v = convdf(emoji_v, emoji_val_distr, 'Emoji')\n",
        "df_emoji_te = convdf(emoji_te, emoji_test_distr, 'Emoji')"
      ],
      "execution_count": null,
      "outputs": []
    },
    {
      "cell_type": "markdown",
      "metadata": {
        "id": "UD0GB7ALOtIg"
      },
      "source": [
        "### Emotion DataFrames"
      ]
    },
    {
      "cell_type": "code",
      "metadata": {
        "id": "olsgb4-yOtIg"
      },
      "source": [
        "df_emotion_tr = convdf(emotion_tr, emotion_train_distr, 'Emotion')\n",
        "df_emotion_v = convdf(emotion_v, emotion_val_distr, 'Emotion')\n",
        "df_emotion_te = convdf(emotion_te, emotion_test_distr, 'Emotion')"
      ],
      "execution_count": null,
      "outputs": []
    },
    {
      "cell_type": "markdown",
      "metadata": {
        "id": "VtRBtXQ8OtIg"
      },
      "source": [
        "### Irony DataFrames"
      ]
    },
    {
      "cell_type": "code",
      "metadata": {
        "id": "ukAP-bYvOtIg"
      },
      "source": [
        "df_irony_tr = convdf(irony_tr, irony_train_distr, 'Irony')\n",
        "df_irony_v = convdf(irony_v, irony_val_distr, 'Irony')\n",
        "df_irony_te = convdf(irony_te, irony_test_distr, 'Irony')"
      ],
      "execution_count": null,
      "outputs": []
    },
    {
      "cell_type": "code",
      "metadata": {
        "id": "e70kAsB7OtIi",
        "outputId": "e96df673-cf94-443a-d115-a8e3c93be79c"
      },
      "source": [
        "df_emoji_tr.head()"
      ],
      "execution_count": null,
      "outputs": [
        {
          "output_type": "execute_result",
          "data": {
            "text/html": [
              "<div>\n",
              "<style scoped>\n",
              "    .dataframe tbody tr th:only-of-type {\n",
              "        vertical-align: middle;\n",
              "    }\n",
              "\n",
              "    .dataframe tbody tr th {\n",
              "        vertical-align: top;\n",
              "    }\n",
              "\n",
              "    .dataframe thead th {\n",
              "        text-align: right;\n",
              "    }\n",
              "</style>\n",
              "<table border=\"1\" class=\"dataframe\">\n",
              "  <thead>\n",
              "    <tr style=\"text-align: right;\">\n",
              "      <th></th>\n",
              "      <th>Emoji</th>\n",
              "      <th>Label</th>\n",
              "    </tr>\n",
              "  </thead>\n",
              "  <tbody>\n",
              "    <tr>\n",
              "      <th>0</th>\n",
              "      <td>sunday afternoon walking through venice in the...</td>\n",
              "      <td>12</td>\n",
              "    </tr>\n",
              "    <tr>\n",
              "      <th>1</th>\n",
              "      <td>time for some bbq and whiskey libations. chomp...</td>\n",
              "      <td>19</td>\n",
              "    </tr>\n",
              "    <tr>\n",
              "      <th>2</th>\n",
              "      <td>love love love all these people ️ ️ ️ #friends...</td>\n",
              "      <td>0</td>\n",
              "    </tr>\n",
              "    <tr>\n",
              "      <th>3</th>\n",
              "      <td>️ ️ ️ ️ @ toys\"r\"us</td>\n",
              "      <td>0</td>\n",
              "    </tr>\n",
              "    <tr>\n",
              "      <th>4</th>\n",
              "      <td>man these are the funniest kids ever!! that fa...</td>\n",
              "      <td>2</td>\n",
              "    </tr>\n",
              "  </tbody>\n",
              "</table>\n",
              "</div>"
            ],
            "text/plain": [
              "                                               Emoji  Label\n",
              "0  sunday afternoon walking through venice in the...     12\n",
              "1  time for some bbq and whiskey libations. chomp...     19\n",
              "2  love love love all these people ️ ️ ️ #friends...      0\n",
              "3                               ️ ️ ️ ️ @ toys\"r\"us       0\n",
              "4  man these are the funniest kids ever!! that fa...      2"
            ]
          },
          "metadata": {
            "tags": []
          },
          "execution_count": 28
        }
      ]
    },
    {
      "cell_type": "code",
      "metadata": {
        "id": "hzkMQi1tOtIi",
        "outputId": "f1f5ee78-95e9-484f-89f7-610dfcca18b8"
      },
      "source": [
        "df_emotion_tr.head()"
      ],
      "execution_count": null,
      "outputs": [
        {
          "output_type": "execute_result",
          "data": {
            "text/html": [
              "<div>\n",
              "<style scoped>\n",
              "    .dataframe tbody tr th:only-of-type {\n",
              "        vertical-align: middle;\n",
              "    }\n",
              "\n",
              "    .dataframe tbody tr th {\n",
              "        vertical-align: top;\n",
              "    }\n",
              "\n",
              "    .dataframe thead th {\n",
              "        text-align: right;\n",
              "    }\n",
              "</style>\n",
              "<table border=\"1\" class=\"dataframe\">\n",
              "  <thead>\n",
              "    <tr style=\"text-align: right;\">\n",
              "      <th></th>\n",
              "      <th>Emotion</th>\n",
              "      <th>Label</th>\n",
              "    </tr>\n",
              "  </thead>\n",
              "  <tbody>\n",
              "    <tr>\n",
              "      <th>0</th>\n",
              "      <td>“worry is a down payment on a problem you may ...</td>\n",
              "      <td>2</td>\n",
              "    </tr>\n",
              "    <tr>\n",
              "      <th>1</th>\n",
              "      <td>my roommate: it's okay that we can't spell bec...</td>\n",
              "      <td>0</td>\n",
              "    </tr>\n",
              "    <tr>\n",
              "      <th>2</th>\n",
              "      <td>no but that's so cute. atsu was probably shy a...</td>\n",
              "      <td>1</td>\n",
              "    </tr>\n",
              "    <tr>\n",
              "      <th>3</th>\n",
              "      <td>rooneys fucking untouchable isn't he? been fuc...</td>\n",
              "      <td>0</td>\n",
              "    </tr>\n",
              "    <tr>\n",
              "      <th>4</th>\n",
              "      <td>it's pretty depressing when u hit pan on ur fa...</td>\n",
              "      <td>3</td>\n",
              "    </tr>\n",
              "  </tbody>\n",
              "</table>\n",
              "</div>"
            ],
            "text/plain": [
              "                                             Emotion  Label\n",
              "0  “worry is a down payment on a problem you may ...      2\n",
              "1  my roommate: it's okay that we can't spell bec...      0\n",
              "2  no but that's so cute. atsu was probably shy a...      1\n",
              "3  rooneys fucking untouchable isn't he? been fuc...      0\n",
              "4  it's pretty depressing when u hit pan on ur fa...      3"
            ]
          },
          "metadata": {
            "tags": []
          },
          "execution_count": 29
        }
      ]
    },
    {
      "cell_type": "code",
      "metadata": {
        "id": "IASGHs0qOtIj",
        "outputId": "b1e13ba5-893d-4f9b-8567-54153f215198"
      },
      "source": [
        "df_irony_tr.head()"
      ],
      "execution_count": null,
      "outputs": [
        {
          "output_type": "execute_result",
          "data": {
            "text/html": [
              "<div>\n",
              "<style scoped>\n",
              "    .dataframe tbody tr th:only-of-type {\n",
              "        vertical-align: middle;\n",
              "    }\n",
              "\n",
              "    .dataframe tbody tr th {\n",
              "        vertical-align: top;\n",
              "    }\n",
              "\n",
              "    .dataframe thead th {\n",
              "        text-align: right;\n",
              "    }\n",
              "</style>\n",
              "<table border=\"1\" class=\"dataframe\">\n",
              "  <thead>\n",
              "    <tr style=\"text-align: right;\">\n",
              "      <th></th>\n",
              "      <th>Irony</th>\n",
              "      <th>Label</th>\n",
              "    </tr>\n",
              "  </thead>\n",
              "  <tbody>\n",
              "    <tr>\n",
              "      <th>0</th>\n",
              "      <td>seeing ppl walking w/ crutches makes me really...</td>\n",
              "      <td>1</td>\n",
              "    </tr>\n",
              "    <tr>\n",
              "      <th>1</th>\n",
              "      <td>look for the girl with the broken smile, ask h...</td>\n",
              "      <td>0</td>\n",
              "    </tr>\n",
              "    <tr>\n",
              "      <th>2</th>\n",
              "      <td>now i remember why i buy books online @user #s...</td>\n",
              "      <td>1</td>\n",
              "    </tr>\n",
              "    <tr>\n",
              "      <th>3</th>\n",
              "      <td>@user @user so is he banded from wearing the c...</td>\n",
              "      <td>1</td>\n",
              "    </tr>\n",
              "    <tr>\n",
              "      <th>4</th>\n",
              "      <td>just found out there are etch a sketch apps.  ...</td>\n",
              "      <td>1</td>\n",
              "    </tr>\n",
              "  </tbody>\n",
              "</table>\n",
              "</div>"
            ],
            "text/plain": [
              "                                               Irony  Label\n",
              "0  seeing ppl walking w/ crutches makes me really...      1\n",
              "1  look for the girl with the broken smile, ask h...      0\n",
              "2  now i remember why i buy books online @user #s...      1\n",
              "3  @user @user so is he banded from wearing the c...      1\n",
              "4  just found out there are etch a sketch apps.  ...      1"
            ]
          },
          "metadata": {
            "tags": []
          },
          "execution_count": 30
        }
      ]
    },
    {
      "cell_type": "code",
      "metadata": {
        "id": "c7JkbjBjOtIj",
        "outputId": "0c3ec540-b1bb-448d-9e27-f818be23aeae"
      },
      "source": [
        "print(df_emoji_tr.isna().values.any())\n",
        "print(df_emoji_v.isna().values.any())\n",
        "print(df_emoji_te.isna().values.any())"
      ],
      "execution_count": null,
      "outputs": [
        {
          "output_type": "stream",
          "text": [
            "False\n",
            "False\n",
            "False\n"
          ],
          "name": "stdout"
        }
      ]
    },
    {
      "cell_type": "code",
      "metadata": {
        "id": "mfWimZFHOtIj",
        "outputId": "02a0784a-1cef-4d9e-faa7-230592f6847e"
      },
      "source": [
        "print(df_emotion_tr.isna().values.any())\n",
        "print(df_emotion_v.isna().values.any())\n",
        "print(df_emotion_te.isna().values.any())"
      ],
      "execution_count": null,
      "outputs": [
        {
          "output_type": "stream",
          "text": [
            "False\n",
            "False\n",
            "False\n"
          ],
          "name": "stdout"
        }
      ]
    },
    {
      "cell_type": "code",
      "metadata": {
        "id": "Tu-BBGe0OtIk",
        "outputId": "932bcc58-db76-4a5a-df79-5ef3d63d0034"
      },
      "source": [
        "print(df_irony_tr.isna().values.any())\n",
        "print(df_irony_v.isna().values.any())\n",
        "print(df_irony_te.isna().values.any())"
      ],
      "execution_count": null,
      "outputs": [
        {
          "output_type": "stream",
          "text": [
            "False\n",
            "False\n",
            "False\n"
          ],
          "name": "stdout"
        }
      ]
    }
  ]
}
