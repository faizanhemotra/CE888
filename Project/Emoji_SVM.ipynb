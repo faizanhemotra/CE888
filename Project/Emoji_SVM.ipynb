{
  "nbformat": 4,
  "nbformat_minor": 0,
  "metadata": {
    "colab": {
      "name": "Emoji_SVM.ipynb",
      "provenance": [],
      "collapsed_sections": [],
      "include_colab_link": true
    },
    "kernelspec": {
      "display_name": "Python 3",
      "language": "python",
      "name": "python3"
    },
    "language_info": {
      "codemirror_mode": {
        "name": "ipython",
        "version": 3
      },
      "file_extension": ".py",
      "mimetype": "text/x-python",
      "name": "python",
      "nbconvert_exporter": "python",
      "pygments_lexer": "ipython3",
      "version": "3.8.5"
    }
  },
  "cells": [
    {
      "cell_type": "markdown",
      "metadata": {
        "id": "view-in-github",
        "colab_type": "text"
      },
      "source": [
        "<a href=\"https://colab.research.google.com/github/faizanhemotra/CE888/blob/main/Project/Emoji_SVM.ipynb\" target=\"_parent\"><img src=\"https://colab.research.google.com/assets/colab-badge.svg\" alt=\"Open In Colab\"/></a>"
      ]
    },
    {
      "cell_type": "code",
      "metadata": {
        "id": "kmYjwxBS5Zn1"
      },
      "source": [
        "%matplotlib inline\n",
        "import matplotlib as mpl\n",
        "import matplotlib.pyplot as plt\n",
        "import numpy as np\n",
        "import pandas as pd\n",
        "import re\n",
        "import requests"
      ],
      "execution_count": null,
      "outputs": []
    },
    {
      "cell_type": "code",
      "metadata": {
        "id": "SkOWfbv55Zn8"
      },
      "source": [
        "def shape_data(feature, label):\n",
        "    '''Returns number of rows for feature and label'''\n",
        "    return len(feature.splitlines()), len(label.splitlines())"
      ],
      "execution_count": null,
      "outputs": []
    },
    {
      "cell_type": "code",
      "metadata": {
        "colab": {
          "base_uri": "https://localhost:8080/"
        },
        "id": "_4B8tqFL5Zn8",
        "outputId": "79b4eb0b-fad6-45b1-b375-b410941a5c56"
      },
      "source": [
        "emoji_train_url = 'https://raw.githubusercontent.com/cardiffnlp/tweeteval/main/datasets/emoji/train_text.txt'\n",
        "emoji_train = requests.get(emoji_train_url)\n",
        "emoji_train_labels_url = 'https://raw.githubusercontent.com/cardiffnlp/tweeteval/main/datasets/emoji/train_labels.txt'\n",
        "emoji_train_labels = requests.get(emoji_train_labels_url)\n",
        "print('Emoji Training, Label')\n",
        "shape_data(emoji_train.text, emoji_train_labels.text)"
      ],
      "execution_count": null,
      "outputs": [
        {
          "output_type": "stream",
          "text": [
            "Emoji Training, Label\n"
          ],
          "name": "stdout"
        },
        {
          "output_type": "execute_result",
          "data": {
            "text/plain": [
              "(45000, 45000)"
            ]
          },
          "metadata": {
            "tags": []
          },
          "execution_count": 3
        }
      ]
    },
    {
      "cell_type": "code",
      "metadata": {
        "colab": {
          "base_uri": "https://localhost:8080/"
        },
        "id": "aKgT5CqV5Zn-",
        "outputId": "19d976d7-afc3-4083-9d2b-821dcfe8468b"
      },
      "source": [
        "emoji_val_url = 'https://raw.githubusercontent.com/cardiffnlp/tweeteval/main/datasets/emoji/val_text.txt'\n",
        "emoji_val = requests.get(emoji_val_url)\n",
        "emoji_val_labels_url = 'https://raw.githubusercontent.com/cardiffnlp/tweeteval/main/datasets/emoji/val_labels.txt'\n",
        "emoji_val_labels = requests.get(emoji_val_labels_url)\n",
        "print('Emoji Validation, Label')\n",
        "shape_data(emoji_val.text, emoji_val_labels.text)"
      ],
      "execution_count": null,
      "outputs": [
        {
          "output_type": "stream",
          "text": [
            "Emoji Validation, Label\n"
          ],
          "name": "stdout"
        },
        {
          "output_type": "execute_result",
          "data": {
            "text/plain": [
              "(5000, 5000)"
            ]
          },
          "metadata": {
            "tags": []
          },
          "execution_count": 4
        }
      ]
    },
    {
      "cell_type": "code",
      "metadata": {
        "colab": {
          "base_uri": "https://localhost:8080/"
        },
        "id": "xQudd7sT5Zn-",
        "outputId": "8baa4307-b52c-4927-b37e-538423d4bdf3"
      },
      "source": [
        "emoji_test_url = 'https://raw.githubusercontent.com/cardiffnlp/tweeteval/main/datasets/emoji/test_text.txt'\n",
        "emoji_test = requests.get(emoji_test_url)\n",
        "emoji_test_labels_url = 'https://raw.githubusercontent.com/cardiffnlp/tweeteval/main/datasets/emoji/test_labels.txt'\n",
        "emoji_test_labels = requests.get(emoji_test_labels_url)\n",
        "print('Emoji Test, Label')\n",
        "shape_data(emoji_test.text, emoji_test_labels.text)"
      ],
      "execution_count": null,
      "outputs": [
        {
          "output_type": "stream",
          "text": [
            "Emoji Test, Label\n"
          ],
          "name": "stdout"
        },
        {
          "output_type": "execute_result",
          "data": {
            "text/plain": [
              "(50000, 50000)"
            ]
          },
          "metadata": {
            "tags": []
          },
          "execution_count": 5
        }
      ]
    },
    {
      "cell_type": "markdown",
      "metadata": {
        "id": "-hGxibmK5ZoB"
      },
      "source": [
        "### Labels"
      ]
    },
    {
      "cell_type": "code",
      "metadata": {
        "id": "gvL7HM_N5ZoB"
      },
      "source": [
        "emoji_train_distr = list()\n",
        "for label in emoji_train_labels.text.splitlines():\n",
        "    emoji_train_distr.append(int(label))"
      ],
      "execution_count": null,
      "outputs": []
    },
    {
      "cell_type": "code",
      "metadata": {
        "id": "vkG0PxN45ZoC"
      },
      "source": [
        "emoji_val_distr = list()\n",
        "for label in emoji_val_labels.text.splitlines():\n",
        "    emoji_val_distr.append(int(label))\n",
        "    \n",
        "emoji_test_distr = list()\n",
        "for label in emoji_test_labels.text.splitlines():\n",
        "    emoji_test_distr.append(int(label))"
      ],
      "execution_count": null,
      "outputs": []
    },
    {
      "cell_type": "markdown",
      "metadata": {
        "id": "NBg65QMU5ZoE"
      },
      "source": [
        "## Removal of links"
      ]
    },
    {
      "cell_type": "code",
      "metadata": {
        "id": "hAEMhwfs5ZoE"
      },
      "source": [
        "def linkremover(text):\n",
        "    '''Removes t.co and instagram.com links from the data'''\n",
        "    tco = r'https?://t.co/[\\w]{10}'\n",
        "    insta = r'https?://(www.)?instagram.com/p/[-\\w]{11}/?'\n",
        "    if (re.findall(tco + '|' + insta, text) != []):\n",
        "        final = re.sub(tco + '|' + insta, '', text)\n",
        "        return final\n",
        "    else:\n",
        "        print('No links')\n",
        "    return text    \n",
        "emoji_tr = linkremover(emoji_train.text)\n",
        "emoji_v = linkremover(emoji_val.text)\n",
        "emoji_te = linkremover(emoji_test.text)"
      ],
      "execution_count": null,
      "outputs": []
    },
    {
      "cell_type": "markdown",
      "metadata": {
        "id": "83kr5Bu15ZoF"
      },
      "source": [
        "## Conversion to DataFrame"
      ]
    },
    {
      "cell_type": "code",
      "metadata": {
        "id": "QgZBdiTE5ZoF"
      },
      "source": [
        "def convdf(col1, col2, label1, label2='Label'):\n",
        "    '''converts data to dataframe'''\n",
        "    return pd.DataFrame({label1: list(col1.splitlines()), label2: np.array(col2)})"
      ],
      "execution_count": null,
      "outputs": []
    },
    {
      "cell_type": "code",
      "metadata": {
        "id": "sfsldXzE5ZoF"
      },
      "source": [
        "df_emoji_tr = convdf(emoji_tr, emoji_train_distr, 'Emoji')\n",
        "df_emoji_v = convdf(emoji_v, emoji_val_distr, 'Emoji')\n",
        "df_emoji_te = convdf(emoji_te, emoji_test_distr, 'Emoji')"
      ],
      "execution_count": null,
      "outputs": []
    },
    {
      "cell_type": "code",
      "metadata": {
        "colab": {
          "base_uri": "https://localhost:8080/",
          "height": 204
        },
        "id": "Qvi3Pez35ZoI",
        "outputId": "7d9798e9-137e-40cc-e165-f055d29f6105"
      },
      "source": [
        "df_emoji_tr.head()"
      ],
      "execution_count": null,
      "outputs": [
        {
          "output_type": "execute_result",
          "data": {
            "text/html": [
              "<div>\n",
              "<style scoped>\n",
              "    .dataframe tbody tr th:only-of-type {\n",
              "        vertical-align: middle;\n",
              "    }\n",
              "\n",
              "    .dataframe tbody tr th {\n",
              "        vertical-align: top;\n",
              "    }\n",
              "\n",
              "    .dataframe thead th {\n",
              "        text-align: right;\n",
              "    }\n",
              "</style>\n",
              "<table border=\"1\" class=\"dataframe\">\n",
              "  <thead>\n",
              "    <tr style=\"text-align: right;\">\n",
              "      <th></th>\n",
              "      <th>Emoji</th>\n",
              "      <th>Label</th>\n",
              "    </tr>\n",
              "  </thead>\n",
              "  <tbody>\n",
              "    <tr>\n",
              "      <th>0</th>\n",
              "      <td>Sunday afternoon walking through Venice in the...</td>\n",
              "      <td>12</td>\n",
              "    </tr>\n",
              "    <tr>\n",
              "      <th>1</th>\n",
              "      <td>Time for some BBQ and whiskey libations. Chomp...</td>\n",
              "      <td>19</td>\n",
              "    </tr>\n",
              "    <tr>\n",
              "      <th>2</th>\n",
              "      <td>Love love love all these people ️ ️ ️ #friends...</td>\n",
              "      <td>0</td>\n",
              "    </tr>\n",
              "    <tr>\n",
              "      <th>3</th>\n",
              "      <td>️ ️ ️ ️ @ Toys\"R\"Us</td>\n",
              "      <td>0</td>\n",
              "    </tr>\n",
              "    <tr>\n",
              "      <th>4</th>\n",
              "      <td>Man these are the funniest kids ever!! That fa...</td>\n",
              "      <td>2</td>\n",
              "    </tr>\n",
              "  </tbody>\n",
              "</table>\n",
              "</div>"
            ],
            "text/plain": [
              "                                               Emoji  Label\n",
              "0  Sunday afternoon walking through Venice in the...     12\n",
              "1  Time for some BBQ and whiskey libations. Chomp...     19\n",
              "2  Love love love all these people ️ ️ ️ #friends...      0\n",
              "3                               ️ ️ ️ ️ @ Toys\"R\"Us       0\n",
              "4  Man these are the funniest kids ever!! That fa...      2"
            ]
          },
          "metadata": {
            "tags": []
          },
          "execution_count": 11
        }
      ]
    },
    {
      "cell_type": "code",
      "metadata": {
        "colab": {
          "base_uri": "https://localhost:8080/"
        },
        "id": "SH8PAH815ZoI",
        "outputId": "a3899c2f-3428-45bc-e48c-531455a50cef"
      },
      "source": [
        "print(df_emoji_tr.isna().values.any())\n",
        "print(df_emoji_v.isna().values.any())\n",
        "print(df_emoji_te.isna().values.any())"
      ],
      "execution_count": null,
      "outputs": [
        {
          "output_type": "stream",
          "text": [
            "False\n",
            "False\n",
            "False\n"
          ],
          "name": "stdout"
        }
      ]
    },
    {
      "cell_type": "markdown",
      "metadata": {
        "id": "D3_TcAhQmj7E"
      },
      "source": [
        "## Training "
      ]
    },
    {
      "cell_type": "code",
      "metadata": {
        "id": "3FGdaOkbGgpd"
      },
      "source": [
        "from sklearn.feature_extraction.text import CountVectorizer, TfidfTransformer\n",
        "from sklearn.pipeline import FeatureUnion, Pipeline \n",
        "from sklearn.svm import LinearSVC\n",
        "pipeline = Pipeline([('union', FeatureUnion([\n",
        "                                             ('word_vec', CountVectorizer(analyzer='word', ngram_range=(1,4), min_df=2)),\n",
        "                                             ('char_vec', CountVectorizer(analyzer='char', ngram_range=(1,6)))\n",
        "                                             ])),\n",
        "                     ('transform',TfidfTransformer()),\n",
        "                     ('clf', LinearSVC(C=0.10, class_weight='balanced'))])"
      ],
      "execution_count": null,
      "outputs": []
    },
    {
      "cell_type": "code",
      "metadata": {
        "colab": {
          "base_uri": "https://localhost:8080/"
        },
        "id": "Rf5dWlvPm5UF",
        "outputId": "6a0e7eef-d756-43aa-fb27-65bc06d7af06"
      },
      "source": [
        "from sklearn.model_selection import GridSearchCV\n",
        "\n",
        "polynomial_pipeline = Pipeline([\n",
        "    ('union', FeatureUnion([('word_vec', CountVectorizer()),\n",
        "                            ('char_vec', CountVectorizer())])),\n",
        "    ('transform', TfidfTransformer()),\n",
        "    ('clf', LinearSVC())\n",
        "])\n",
        "param_grid = {\n",
        "    'union__word_vec__strip_accents': ['ascii', None],\n",
        "    'union__word_vec__binary': [True, False],\n",
        "    'union__char_vec__binary': [True, False],\n",
        "    'clf__loss': ['hinge', 'squared_hinge'],\n",
        "}\n",
        "grid_search = GridSearchCV(estimator=pipeline, param_grid=param_grid, cv=3, scoring='f1_macro', n_jobs=1, verbose=2)\n",
        "grid_search.fit(df_emoji_tr['Emoji'], df_emoji_tr['Label'])"
      ],
      "execution_count": null,
      "outputs": [
        {
          "output_type": "stream",
          "text": [
            "Fitting 3 folds for each of 16 candidates, totalling 48 fits\n",
            "[CV] clf__loss=hinge, union__char_vec__binary=True, union__word_vec__binary=True, union__word_vec__strip_accents=ascii \n"
          ],
          "name": "stdout"
        },
        {
          "output_type": "stream",
          "text": [
            "[Parallel(n_jobs=1)]: Using backend SequentialBackend with 1 concurrent workers.\n"
          ],
          "name": "stderr"
        },
        {
          "output_type": "stream",
          "text": [
            "[CV]  clf__loss=hinge, union__char_vec__binary=True, union__word_vec__binary=True, union__word_vec__strip_accents=ascii, total= 1.8min\n",
            "[CV] clf__loss=hinge, union__char_vec__binary=True, union__word_vec__binary=True, union__word_vec__strip_accents=ascii \n"
          ],
          "name": "stdout"
        },
        {
          "output_type": "stream",
          "text": [
            "[Parallel(n_jobs=1)]: Done   1 out of   1 | elapsed:  1.8min remaining:    0.0s\n"
          ],
          "name": "stderr"
        },
        {
          "output_type": "stream",
          "text": [
            "[CV]  clf__loss=hinge, union__char_vec__binary=True, union__word_vec__binary=True, union__word_vec__strip_accents=ascii, total= 1.8min\n",
            "[CV] clf__loss=hinge, union__char_vec__binary=True, union__word_vec__binary=True, union__word_vec__strip_accents=ascii \n",
            "[CV]  clf__loss=hinge, union__char_vec__binary=True, union__word_vec__binary=True, union__word_vec__strip_accents=ascii, total= 1.7min\n",
            "[CV] clf__loss=hinge, union__char_vec__binary=True, union__word_vec__binary=True, union__word_vec__strip_accents=None \n",
            "[CV]  clf__loss=hinge, union__char_vec__binary=True, union__word_vec__binary=True, union__word_vec__strip_accents=None, total= 1.6min\n",
            "[CV] clf__loss=hinge, union__char_vec__binary=True, union__word_vec__binary=True, union__word_vec__strip_accents=None \n",
            "[CV]  clf__loss=hinge, union__char_vec__binary=True, union__word_vec__binary=True, union__word_vec__strip_accents=None, total= 1.8min\n",
            "[CV] clf__loss=hinge, union__char_vec__binary=True, union__word_vec__binary=True, union__word_vec__strip_accents=None \n",
            "[CV]  clf__loss=hinge, union__char_vec__binary=True, union__word_vec__binary=True, union__word_vec__strip_accents=None, total= 1.6min\n",
            "[CV] clf__loss=hinge, union__char_vec__binary=True, union__word_vec__binary=False, union__word_vec__strip_accents=ascii \n",
            "[CV]  clf__loss=hinge, union__char_vec__binary=True, union__word_vec__binary=False, union__word_vec__strip_accents=ascii, total= 1.7min\n",
            "[CV] clf__loss=hinge, union__char_vec__binary=True, union__word_vec__binary=False, union__word_vec__strip_accents=ascii \n",
            "[CV]  clf__loss=hinge, union__char_vec__binary=True, union__word_vec__binary=False, union__word_vec__strip_accents=ascii, total= 1.7min\n",
            "[CV] clf__loss=hinge, union__char_vec__binary=True, union__word_vec__binary=False, union__word_vec__strip_accents=ascii \n",
            "[CV]  clf__loss=hinge, union__char_vec__binary=True, union__word_vec__binary=False, union__word_vec__strip_accents=ascii, total= 1.8min\n",
            "[CV] clf__loss=hinge, union__char_vec__binary=True, union__word_vec__binary=False, union__word_vec__strip_accents=None \n",
            "[CV]  clf__loss=hinge, union__char_vec__binary=True, union__word_vec__binary=False, union__word_vec__strip_accents=None, total= 1.8min\n",
            "[CV] clf__loss=hinge, union__char_vec__binary=True, union__word_vec__binary=False, union__word_vec__strip_accents=None \n",
            "[CV]  clf__loss=hinge, union__char_vec__binary=True, union__word_vec__binary=False, union__word_vec__strip_accents=None, total= 1.9min\n",
            "[CV] clf__loss=hinge, union__char_vec__binary=True, union__word_vec__binary=False, union__word_vec__strip_accents=None \n",
            "[CV]  clf__loss=hinge, union__char_vec__binary=True, union__word_vec__binary=False, union__word_vec__strip_accents=None, total= 1.8min\n",
            "[CV] clf__loss=hinge, union__char_vec__binary=False, union__word_vec__binary=True, union__word_vec__strip_accents=ascii \n",
            "[CV]  clf__loss=hinge, union__char_vec__binary=False, union__word_vec__binary=True, union__word_vec__strip_accents=ascii, total= 2.3min\n",
            "[CV] clf__loss=hinge, union__char_vec__binary=False, union__word_vec__binary=True, union__word_vec__strip_accents=ascii \n",
            "[CV]  clf__loss=hinge, union__char_vec__binary=False, union__word_vec__binary=True, union__word_vec__strip_accents=ascii, total= 2.1min\n",
            "[CV] clf__loss=hinge, union__char_vec__binary=False, union__word_vec__binary=True, union__word_vec__strip_accents=ascii \n",
            "[CV]  clf__loss=hinge, union__char_vec__binary=False, union__word_vec__binary=True, union__word_vec__strip_accents=ascii, total= 1.9min\n",
            "[CV] clf__loss=hinge, union__char_vec__binary=False, union__word_vec__binary=True, union__word_vec__strip_accents=None \n",
            "[CV]  clf__loss=hinge, union__char_vec__binary=False, union__word_vec__binary=True, union__word_vec__strip_accents=None, total= 2.1min\n",
            "[CV] clf__loss=hinge, union__char_vec__binary=False, union__word_vec__binary=True, union__word_vec__strip_accents=None \n",
            "[CV]  clf__loss=hinge, union__char_vec__binary=False, union__word_vec__binary=True, union__word_vec__strip_accents=None, total= 2.2min\n",
            "[CV] clf__loss=hinge, union__char_vec__binary=False, union__word_vec__binary=True, union__word_vec__strip_accents=None \n",
            "[CV]  clf__loss=hinge, union__char_vec__binary=False, union__word_vec__binary=True, union__word_vec__strip_accents=None, total= 2.0min\n",
            "[CV] clf__loss=hinge, union__char_vec__binary=False, union__word_vec__binary=False, union__word_vec__strip_accents=ascii \n",
            "[CV]  clf__loss=hinge, union__char_vec__binary=False, union__word_vec__binary=False, union__word_vec__strip_accents=ascii, total= 2.2min\n",
            "[CV] clf__loss=hinge, union__char_vec__binary=False, union__word_vec__binary=False, union__word_vec__strip_accents=ascii \n",
            "[CV]  clf__loss=hinge, union__char_vec__binary=False, union__word_vec__binary=False, union__word_vec__strip_accents=ascii, total= 2.3min\n",
            "[CV] clf__loss=hinge, union__char_vec__binary=False, union__word_vec__binary=False, union__word_vec__strip_accents=ascii \n",
            "[CV]  clf__loss=hinge, union__char_vec__binary=False, union__word_vec__binary=False, union__word_vec__strip_accents=ascii, total= 2.1min\n",
            "[CV] clf__loss=hinge, union__char_vec__binary=False, union__word_vec__binary=False, union__word_vec__strip_accents=None \n",
            "[CV]  clf__loss=hinge, union__char_vec__binary=False, union__word_vec__binary=False, union__word_vec__strip_accents=None, total= 2.3min\n",
            "[CV] clf__loss=hinge, union__char_vec__binary=False, union__word_vec__binary=False, union__word_vec__strip_accents=None \n",
            "[CV]  clf__loss=hinge, union__char_vec__binary=False, union__word_vec__binary=False, union__word_vec__strip_accents=None, total= 2.2min\n",
            "[CV] clf__loss=hinge, union__char_vec__binary=False, union__word_vec__binary=False, union__word_vec__strip_accents=None \n",
            "[CV]  clf__loss=hinge, union__char_vec__binary=False, union__word_vec__binary=False, union__word_vec__strip_accents=None, total= 2.0min\n",
            "[CV] clf__loss=squared_hinge, union__char_vec__binary=True, union__word_vec__binary=True, union__word_vec__strip_accents=ascii \n",
            "[CV]  clf__loss=squared_hinge, union__char_vec__binary=True, union__word_vec__binary=True, union__word_vec__strip_accents=ascii, total=  52.3s\n",
            "[CV] clf__loss=squared_hinge, union__char_vec__binary=True, union__word_vec__binary=True, union__word_vec__strip_accents=ascii \n",
            "[CV]  clf__loss=squared_hinge, union__char_vec__binary=True, union__word_vec__binary=True, union__word_vec__strip_accents=ascii, total=  53.4s\n",
            "[CV] clf__loss=squared_hinge, union__char_vec__binary=True, union__word_vec__binary=True, union__word_vec__strip_accents=ascii \n",
            "[CV]  clf__loss=squared_hinge, union__char_vec__binary=True, union__word_vec__binary=True, union__word_vec__strip_accents=ascii, total=  54.0s\n",
            "[CV] clf__loss=squared_hinge, union__char_vec__binary=True, union__word_vec__binary=True, union__word_vec__strip_accents=None \n",
            "[CV]  clf__loss=squared_hinge, union__char_vec__binary=True, union__word_vec__binary=True, union__word_vec__strip_accents=None, total=  54.8s\n",
            "[CV] clf__loss=squared_hinge, union__char_vec__binary=True, union__word_vec__binary=True, union__word_vec__strip_accents=None \n",
            "[CV]  clf__loss=squared_hinge, union__char_vec__binary=True, union__word_vec__binary=True, union__word_vec__strip_accents=None, total=  54.0s\n",
            "[CV] clf__loss=squared_hinge, union__char_vec__binary=True, union__word_vec__binary=True, union__word_vec__strip_accents=None \n",
            "[CV]  clf__loss=squared_hinge, union__char_vec__binary=True, union__word_vec__binary=True, union__word_vec__strip_accents=None, total=  55.4s\n",
            "[CV] clf__loss=squared_hinge, union__char_vec__binary=True, union__word_vec__binary=False, union__word_vec__strip_accents=ascii \n",
            "[CV]  clf__loss=squared_hinge, union__char_vec__binary=True, union__word_vec__binary=False, union__word_vec__strip_accents=ascii, total=  54.6s\n",
            "[CV] clf__loss=squared_hinge, union__char_vec__binary=True, union__word_vec__binary=False, union__word_vec__strip_accents=ascii \n",
            "[CV]  clf__loss=squared_hinge, union__char_vec__binary=True, union__word_vec__binary=False, union__word_vec__strip_accents=ascii, total=  54.6s\n",
            "[CV] clf__loss=squared_hinge, union__char_vec__binary=True, union__word_vec__binary=False, union__word_vec__strip_accents=ascii \n",
            "[CV]  clf__loss=squared_hinge, union__char_vec__binary=True, union__word_vec__binary=False, union__word_vec__strip_accents=ascii, total=  56.1s\n",
            "[CV] clf__loss=squared_hinge, union__char_vec__binary=True, union__word_vec__binary=False, union__word_vec__strip_accents=None \n",
            "[CV]  clf__loss=squared_hinge, union__char_vec__binary=True, union__word_vec__binary=False, union__word_vec__strip_accents=None, total=  54.6s\n",
            "[CV] clf__loss=squared_hinge, union__char_vec__binary=True, union__word_vec__binary=False, union__word_vec__strip_accents=None \n",
            "[CV]  clf__loss=squared_hinge, union__char_vec__binary=True, union__word_vec__binary=False, union__word_vec__strip_accents=None, total=  56.3s\n",
            "[CV] clf__loss=squared_hinge, union__char_vec__binary=True, union__word_vec__binary=False, union__word_vec__strip_accents=None \n",
            "[CV]  clf__loss=squared_hinge, union__char_vec__binary=True, union__word_vec__binary=False, union__word_vec__strip_accents=None, total=  54.6s\n",
            "[CV] clf__loss=squared_hinge, union__char_vec__binary=False, union__word_vec__binary=True, union__word_vec__strip_accents=ascii \n",
            "[CV]  clf__loss=squared_hinge, union__char_vec__binary=False, union__word_vec__binary=True, union__word_vec__strip_accents=ascii, total=  53.8s\n",
            "[CV] clf__loss=squared_hinge, union__char_vec__binary=False, union__word_vec__binary=True, union__word_vec__strip_accents=ascii \n",
            "[CV]  clf__loss=squared_hinge, union__char_vec__binary=False, union__word_vec__binary=True, union__word_vec__strip_accents=ascii, total=  53.8s\n",
            "[CV] clf__loss=squared_hinge, union__char_vec__binary=False, union__word_vec__binary=True, union__word_vec__strip_accents=ascii \n",
            "[CV]  clf__loss=squared_hinge, union__char_vec__binary=False, union__word_vec__binary=True, union__word_vec__strip_accents=ascii, total=  54.2s\n",
            "[CV] clf__loss=squared_hinge, union__char_vec__binary=False, union__word_vec__binary=True, union__word_vec__strip_accents=None \n",
            "[CV]  clf__loss=squared_hinge, union__char_vec__binary=False, union__word_vec__binary=True, union__word_vec__strip_accents=None, total=  54.5s\n",
            "[CV] clf__loss=squared_hinge, union__char_vec__binary=False, union__word_vec__binary=True, union__word_vec__strip_accents=None \n",
            "[CV]  clf__loss=squared_hinge, union__char_vec__binary=False, union__word_vec__binary=True, union__word_vec__strip_accents=None, total=  54.4s\n",
            "[CV] clf__loss=squared_hinge, union__char_vec__binary=False, union__word_vec__binary=True, union__word_vec__strip_accents=None \n",
            "[CV]  clf__loss=squared_hinge, union__char_vec__binary=False, union__word_vec__binary=True, union__word_vec__strip_accents=None, total=  54.5s\n",
            "[CV] clf__loss=squared_hinge, union__char_vec__binary=False, union__word_vec__binary=False, union__word_vec__strip_accents=ascii \n",
            "[CV]  clf__loss=squared_hinge, union__char_vec__binary=False, union__word_vec__binary=False, union__word_vec__strip_accents=ascii, total=  53.2s\n",
            "[CV] clf__loss=squared_hinge, union__char_vec__binary=False, union__word_vec__binary=False, union__word_vec__strip_accents=ascii \n",
            "[CV]  clf__loss=squared_hinge, union__char_vec__binary=False, union__word_vec__binary=False, union__word_vec__strip_accents=ascii, total=  53.3s\n",
            "[CV] clf__loss=squared_hinge, union__char_vec__binary=False, union__word_vec__binary=False, union__word_vec__strip_accents=ascii \n",
            "[CV]  clf__loss=squared_hinge, union__char_vec__binary=False, union__word_vec__binary=False, union__word_vec__strip_accents=ascii, total=  52.3s\n",
            "[CV] clf__loss=squared_hinge, union__char_vec__binary=False, union__word_vec__binary=False, union__word_vec__strip_accents=None \n",
            "[CV]  clf__loss=squared_hinge, union__char_vec__binary=False, union__word_vec__binary=False, union__word_vec__strip_accents=None, total=  53.0s\n",
            "[CV] clf__loss=squared_hinge, union__char_vec__binary=False, union__word_vec__binary=False, union__word_vec__strip_accents=None \n",
            "[CV]  clf__loss=squared_hinge, union__char_vec__binary=False, union__word_vec__binary=False, union__word_vec__strip_accents=None, total=  53.3s\n",
            "[CV] clf__loss=squared_hinge, union__char_vec__binary=False, union__word_vec__binary=False, union__word_vec__strip_accents=None \n",
            "[CV]  clf__loss=squared_hinge, union__char_vec__binary=False, union__word_vec__binary=False, union__word_vec__strip_accents=None, total=  52.8s\n"
          ],
          "name": "stdout"
        },
        {
          "output_type": "stream",
          "text": [
            "[Parallel(n_jobs=1)]: Done  48 out of  48 | elapsed: 68.5min finished\n"
          ],
          "name": "stderr"
        },
        {
          "output_type": "execute_result",
          "data": {
            "text/plain": [
              "GridSearchCV(cv=3, error_score=nan,\n",
              "             estimator=Pipeline(memory=None,\n",
              "                                steps=[('union',\n",
              "                                        FeatureUnion(n_jobs=None,\n",
              "                                                     transformer_list=[('word_vec',\n",
              "                                                                        CountVectorizer(analyzer='word',\n",
              "                                                                                        binary=False,\n",
              "                                                                                        decode_error='strict',\n",
              "                                                                                        dtype=<class 'numpy.int64'>,\n",
              "                                                                                        encoding='utf-8',\n",
              "                                                                                        input='content',\n",
              "                                                                                        lowercase=True,\n",
              "                                                                                        max_df=1.0,\n",
              "                                                                                        max_features=None,\n",
              "                                                                                        min_df=2,\n",
              "                                                                                        ngram_range=(1,\n",
              "                                                                                                     4),\n",
              "                                                                                        preprocessor=Non...\n",
              "                                                  penalty='l2',\n",
              "                                                  random_state=None, tol=0.0001,\n",
              "                                                  verbose=0))],\n",
              "                                verbose=False),\n",
              "             iid='deprecated', n_jobs=1,\n",
              "             param_grid={'clf__loss': ['hinge', 'squared_hinge'],\n",
              "                         'union__char_vec__binary': [True, False],\n",
              "                         'union__word_vec__binary': [True, False],\n",
              "                         'union__word_vec__strip_accents': ['ascii', None]},\n",
              "             pre_dispatch='2*n_jobs', refit=True, return_train_score=False,\n",
              "             scoring='f1_macro', verbose=2)"
            ]
          },
          "metadata": {
            "tags": []
          },
          "execution_count": 14
        }
      ]
    },
    {
      "cell_type": "code",
      "metadata": {
        "id": "fec3EFDwtDYR",
        "colab": {
          "base_uri": "https://localhost:8080/"
        },
        "outputId": "04987d97-989e-402c-c630-e14f6097f692"
      },
      "source": [
        "grid_search.best_params_"
      ],
      "execution_count": null,
      "outputs": [
        {
          "output_type": "execute_result",
          "data": {
            "text/plain": [
              "{'clf__loss': 'squared_hinge',\n",
              " 'union__char_vec__binary': True,\n",
              " 'union__word_vec__binary': False,\n",
              " 'union__word_vec__strip_accents': 'ascii'}"
            ]
          },
          "metadata": {
            "tags": []
          },
          "execution_count": 15
        }
      ]
    },
    {
      "cell_type": "code",
      "metadata": {
        "id": "ssgJWgutmj7F"
      },
      "source": [
        "df = pd.DataFrame(grid_search.cv_results_)"
      ],
      "execution_count": null,
      "outputs": []
    },
    {
      "cell_type": "code",
      "metadata": {
        "id": "WLrqKK9Umj7F",
        "scrolled": true,
        "colab": {
          "base_uri": "https://localhost:8080/",
          "height": 973
        },
        "outputId": "830c9d6d-db78-4ff1-da5a-d807d637165f"
      },
      "source": [
        "df"
      ],
      "execution_count": null,
      "outputs": [
        {
          "output_type": "execute_result",
          "data": {
            "text/html": [
              "<div>\n",
              "<style scoped>\n",
              "    .dataframe tbody tr th:only-of-type {\n",
              "        vertical-align: middle;\n",
              "    }\n",
              "\n",
              "    .dataframe tbody tr th {\n",
              "        vertical-align: top;\n",
              "    }\n",
              "\n",
              "    .dataframe thead th {\n",
              "        text-align: right;\n",
              "    }\n",
              "</style>\n",
              "<table border=\"1\" class=\"dataframe\">\n",
              "  <thead>\n",
              "    <tr style=\"text-align: right;\">\n",
              "      <th></th>\n",
              "      <th>mean_fit_time</th>\n",
              "      <th>std_fit_time</th>\n",
              "      <th>mean_score_time</th>\n",
              "      <th>std_score_time</th>\n",
              "      <th>param_clf__loss</th>\n",
              "      <th>param_union__char_vec__binary</th>\n",
              "      <th>param_union__word_vec__binary</th>\n",
              "      <th>param_union__word_vec__strip_accents</th>\n",
              "      <th>params</th>\n",
              "      <th>split0_test_score</th>\n",
              "      <th>split1_test_score</th>\n",
              "      <th>split2_test_score</th>\n",
              "      <th>mean_test_score</th>\n",
              "      <th>std_test_score</th>\n",
              "      <th>rank_test_score</th>\n",
              "    </tr>\n",
              "  </thead>\n",
              "  <tbody>\n",
              "    <tr>\n",
              "      <th>0</th>\n",
              "      <td>97.415430</td>\n",
              "      <td>2.971225</td>\n",
              "      <td>7.881915</td>\n",
              "      <td>0.151313</td>\n",
              "      <td>hinge</td>\n",
              "      <td>True</td>\n",
              "      <td>True</td>\n",
              "      <td>ascii</td>\n",
              "      <td>{'clf__loss': 'hinge', 'union__char_vec__binar...</td>\n",
              "      <td>0.249413</td>\n",
              "      <td>0.253123</td>\n",
              "      <td>0.257090</td>\n",
              "      <td>0.253209</td>\n",
              "      <td>0.003135</td>\n",
              "      <td>9</td>\n",
              "    </tr>\n",
              "    <tr>\n",
              "      <th>1</th>\n",
              "      <td>92.247740</td>\n",
              "      <td>6.348468</td>\n",
              "      <td>7.899790</td>\n",
              "      <td>0.156847</td>\n",
              "      <td>hinge</td>\n",
              "      <td>True</td>\n",
              "      <td>True</td>\n",
              "      <td>None</td>\n",
              "      <td>{'clf__loss': 'hinge', 'union__char_vec__binar...</td>\n",
              "      <td>0.249450</td>\n",
              "      <td>0.253073</td>\n",
              "      <td>0.257000</td>\n",
              "      <td>0.253174</td>\n",
              "      <td>0.003083</td>\n",
              "      <td>10</td>\n",
              "    </tr>\n",
              "    <tr>\n",
              "      <th>2</th>\n",
              "      <td>95.434473</td>\n",
              "      <td>2.469926</td>\n",
              "      <td>8.088680</td>\n",
              "      <td>0.108951</td>\n",
              "      <td>hinge</td>\n",
              "      <td>True</td>\n",
              "      <td>False</td>\n",
              "      <td>ascii</td>\n",
              "      <td>{'clf__loss': 'hinge', 'union__char_vec__binar...</td>\n",
              "      <td>0.249643</td>\n",
              "      <td>0.252986</td>\n",
              "      <td>0.256700</td>\n",
              "      <td>0.253110</td>\n",
              "      <td>0.002882</td>\n",
              "      <td>11</td>\n",
              "    </tr>\n",
              "    <tr>\n",
              "      <th>3</th>\n",
              "      <td>99.689392</td>\n",
              "      <td>2.754564</td>\n",
              "      <td>7.957735</td>\n",
              "      <td>0.160074</td>\n",
              "      <td>hinge</td>\n",
              "      <td>True</td>\n",
              "      <td>False</td>\n",
              "      <td>None</td>\n",
              "      <td>{'clf__loss': 'hinge', 'union__char_vec__binar...</td>\n",
              "      <td>0.249345</td>\n",
              "      <td>0.253056</td>\n",
              "      <td>0.256712</td>\n",
              "      <td>0.253037</td>\n",
              "      <td>0.003007</td>\n",
              "      <td>12</td>\n",
              "    </tr>\n",
              "    <tr>\n",
              "      <th>4</th>\n",
              "      <td>118.717531</td>\n",
              "      <td>7.580775</td>\n",
              "      <td>8.119781</td>\n",
              "      <td>0.214536</td>\n",
              "      <td>hinge</td>\n",
              "      <td>False</td>\n",
              "      <td>True</td>\n",
              "      <td>ascii</td>\n",
              "      <td>{'clf__loss': 'hinge', 'union__char_vec__binar...</td>\n",
              "      <td>0.245584</td>\n",
              "      <td>0.251393</td>\n",
              "      <td>0.251864</td>\n",
              "      <td>0.249614</td>\n",
              "      <td>0.002856</td>\n",
              "      <td>14</td>\n",
              "    </tr>\n",
              "    <tr>\n",
              "      <th>5</th>\n",
              "      <td>119.033831</td>\n",
              "      <td>4.884475</td>\n",
              "      <td>8.020974</td>\n",
              "      <td>0.088565</td>\n",
              "      <td>hinge</td>\n",
              "      <td>False</td>\n",
              "      <td>True</td>\n",
              "      <td>None</td>\n",
              "      <td>{'clf__loss': 'hinge', 'union__char_vec__binar...</td>\n",
              "      <td>0.245262</td>\n",
              "      <td>0.251555</td>\n",
              "      <td>0.252374</td>\n",
              "      <td>0.249730</td>\n",
              "      <td>0.003177</td>\n",
              "      <td>13</td>\n",
              "    </tr>\n",
              "    <tr>\n",
              "      <th>6</th>\n",
              "      <td>124.010736</td>\n",
              "      <td>6.487004</td>\n",
              "      <td>8.197656</td>\n",
              "      <td>0.073878</td>\n",
              "      <td>hinge</td>\n",
              "      <td>False</td>\n",
              "      <td>False</td>\n",
              "      <td>ascii</td>\n",
              "      <td>{'clf__loss': 'hinge', 'union__char_vec__binar...</td>\n",
              "      <td>0.245159</td>\n",
              "      <td>0.250379</td>\n",
              "      <td>0.252069</td>\n",
              "      <td>0.249203</td>\n",
              "      <td>0.002941</td>\n",
              "      <td>16</td>\n",
              "    </tr>\n",
              "    <tr>\n",
              "      <th>7</th>\n",
              "      <td>123.681861</td>\n",
              "      <td>7.959886</td>\n",
              "      <td>8.025447</td>\n",
              "      <td>0.051023</td>\n",
              "      <td>hinge</td>\n",
              "      <td>False</td>\n",
              "      <td>False</td>\n",
              "      <td>None</td>\n",
              "      <td>{'clf__loss': 'hinge', 'union__char_vec__binar...</td>\n",
              "      <td>0.245609</td>\n",
              "      <td>0.250454</td>\n",
              "      <td>0.252645</td>\n",
              "      <td>0.249569</td>\n",
              "      <td>0.002940</td>\n",
              "      <td>15</td>\n",
              "    </tr>\n",
              "    <tr>\n",
              "      <th>8</th>\n",
              "      <td>45.221327</td>\n",
              "      <td>0.582928</td>\n",
              "      <td>8.000181</td>\n",
              "      <td>0.221197</td>\n",
              "      <td>squared_hinge</td>\n",
              "      <td>True</td>\n",
              "      <td>True</td>\n",
              "      <td>ascii</td>\n",
              "      <td>{'clf__loss': 'squared_hinge', 'union__char_ve...</td>\n",
              "      <td>0.278574</td>\n",
              "      <td>0.279936</td>\n",
              "      <td>0.288356</td>\n",
              "      <td>0.282289</td>\n",
              "      <td>0.004326</td>\n",
              "      <td>4</td>\n",
              "    </tr>\n",
              "    <tr>\n",
              "      <th>9</th>\n",
              "      <td>46.517774</td>\n",
              "      <td>0.645419</td>\n",
              "      <td>8.231815</td>\n",
              "      <td>0.147774</td>\n",
              "      <td>squared_hinge</td>\n",
              "      <td>True</td>\n",
              "      <td>True</td>\n",
              "      <td>None</td>\n",
              "      <td>{'clf__loss': 'squared_hinge', 'union__char_ve...</td>\n",
              "      <td>0.278763</td>\n",
              "      <td>0.279936</td>\n",
              "      <td>0.288322</td>\n",
              "      <td>0.282340</td>\n",
              "      <td>0.004257</td>\n",
              "      <td>3</td>\n",
              "    </tr>\n",
              "    <tr>\n",
              "      <th>10</th>\n",
              "      <td>46.764736</td>\n",
              "      <td>0.775455</td>\n",
              "      <td>8.314986</td>\n",
              "      <td>0.085701</td>\n",
              "      <td>squared_hinge</td>\n",
              "      <td>True</td>\n",
              "      <td>False</td>\n",
              "      <td>ascii</td>\n",
              "      <td>{'clf__loss': 'squared_hinge', 'union__char_ve...</td>\n",
              "      <td>0.279806</td>\n",
              "      <td>0.280085</td>\n",
              "      <td>0.288484</td>\n",
              "      <td>0.282792</td>\n",
              "      <td>0.004027</td>\n",
              "      <td>1</td>\n",
              "    </tr>\n",
              "    <tr>\n",
              "      <th>11</th>\n",
              "      <td>46.807459</td>\n",
              "      <td>0.630474</td>\n",
              "      <td>8.366043</td>\n",
              "      <td>0.249665</td>\n",
              "      <td>squared_hinge</td>\n",
              "      <td>True</td>\n",
              "      <td>False</td>\n",
              "      <td>None</td>\n",
              "      <td>{'clf__loss': 'squared_hinge', 'union__char_ve...</td>\n",
              "      <td>0.279837</td>\n",
              "      <td>0.280031</td>\n",
              "      <td>0.288421</td>\n",
              "      <td>0.282763</td>\n",
              "      <td>0.004002</td>\n",
              "      <td>2</td>\n",
              "    </tr>\n",
              "    <tr>\n",
              "      <th>12</th>\n",
              "      <td>45.816987</td>\n",
              "      <td>0.358440</td>\n",
              "      <td>8.140799</td>\n",
              "      <td>0.168827</td>\n",
              "      <td>squared_hinge</td>\n",
              "      <td>False</td>\n",
              "      <td>True</td>\n",
              "      <td>ascii</td>\n",
              "      <td>{'clf__loss': 'squared_hinge', 'union__char_ve...</td>\n",
              "      <td>0.277304</td>\n",
              "      <td>0.274208</td>\n",
              "      <td>0.283792</td>\n",
              "      <td>0.278435</td>\n",
              "      <td>0.003994</td>\n",
              "      <td>5</td>\n",
              "    </tr>\n",
              "    <tr>\n",
              "      <th>13</th>\n",
              "      <td>46.306489</td>\n",
              "      <td>0.095996</td>\n",
              "      <td>8.144216</td>\n",
              "      <td>0.058430</td>\n",
              "      <td>squared_hinge</td>\n",
              "      <td>False</td>\n",
              "      <td>True</td>\n",
              "      <td>None</td>\n",
              "      <td>{'clf__loss': 'squared_hinge', 'union__char_ve...</td>\n",
              "      <td>0.277155</td>\n",
              "      <td>0.274123</td>\n",
              "      <td>0.283607</td>\n",
              "      <td>0.278295</td>\n",
              "      <td>0.003955</td>\n",
              "      <td>7</td>\n",
              "    </tr>\n",
              "    <tr>\n",
              "      <th>14</th>\n",
              "      <td>44.879413</td>\n",
              "      <td>0.354828</td>\n",
              "      <td>8.047295</td>\n",
              "      <td>0.149064</td>\n",
              "      <td>squared_hinge</td>\n",
              "      <td>False</td>\n",
              "      <td>False</td>\n",
              "      <td>ascii</td>\n",
              "      <td>{'clf__loss': 'squared_hinge', 'union__char_ve...</td>\n",
              "      <td>0.277672</td>\n",
              "      <td>0.273877</td>\n",
              "      <td>0.282952</td>\n",
              "      <td>0.278167</td>\n",
              "      <td>0.003721</td>\n",
              "      <td>8</td>\n",
              "    </tr>\n",
              "    <tr>\n",
              "      <th>15</th>\n",
              "      <td>45.064169</td>\n",
              "      <td>0.080289</td>\n",
              "      <td>7.988387</td>\n",
              "      <td>0.140391</td>\n",
              "      <td>squared_hinge</td>\n",
              "      <td>False</td>\n",
              "      <td>False</td>\n",
              "      <td>None</td>\n",
              "      <td>{'clf__loss': 'squared_hinge', 'union__char_ve...</td>\n",
              "      <td>0.277776</td>\n",
              "      <td>0.274004</td>\n",
              "      <td>0.283154</td>\n",
              "      <td>0.278311</td>\n",
              "      <td>0.003755</td>\n",
              "      <td>6</td>\n",
              "    </tr>\n",
              "  </tbody>\n",
              "</table>\n",
              "</div>"
            ],
            "text/plain": [
              "    mean_fit_time  std_fit_time  ...  std_test_score  rank_test_score\n",
              "0       97.415430      2.971225  ...        0.003135                9\n",
              "1       92.247740      6.348468  ...        0.003083               10\n",
              "2       95.434473      2.469926  ...        0.002882               11\n",
              "3       99.689392      2.754564  ...        0.003007               12\n",
              "4      118.717531      7.580775  ...        0.002856               14\n",
              "5      119.033831      4.884475  ...        0.003177               13\n",
              "6      124.010736      6.487004  ...        0.002941               16\n",
              "7      123.681861      7.959886  ...        0.002940               15\n",
              "8       45.221327      0.582928  ...        0.004326                4\n",
              "9       46.517774      0.645419  ...        0.004257                3\n",
              "10      46.764736      0.775455  ...        0.004027                1\n",
              "11      46.807459      0.630474  ...        0.004002                2\n",
              "12      45.816987      0.358440  ...        0.003994                5\n",
              "13      46.306489      0.095996  ...        0.003955                7\n",
              "14      44.879413      0.354828  ...        0.003721                8\n",
              "15      45.064169      0.080289  ...        0.003755                6\n",
              "\n",
              "[16 rows x 15 columns]"
            ]
          },
          "metadata": {
            "tags": []
          },
          "execution_count": 17
        }
      ]
    },
    {
      "cell_type": "code",
      "metadata": {
        "id": "Lq-GGJzNmj7G",
        "colab": {
          "base_uri": "https://localhost:8080/"
        },
        "outputId": "e8eb67a3-a0b0-4dea-e62b-7a31029883fa"
      },
      "source": [
        "grid_search.best_score_"
      ],
      "execution_count": null,
      "outputs": [
        {
          "output_type": "execute_result",
          "data": {
            "text/plain": [
              "0.2827918286503779"
            ]
          },
          "metadata": {
            "tags": []
          },
          "execution_count": 18
        }
      ]
    },
    {
      "cell_type": "markdown",
      "metadata": {
        "id": "02lO2Teumj7G"
      },
      "source": [
        "## Evaluations "
      ]
    },
    {
      "cell_type": "code",
      "metadata": {
        "id": "cVoBLfObdb6n",
        "colab": {
          "base_uri": "https://localhost:8080/"
        },
        "outputId": "3dd00bf5-f29f-4a4d-893b-a359c6a12bd9"
      },
      "source": [
        "from sklearn.metrics import f1_score, plot_confusion_matrix\n",
        "f1 = f1_score(df_emoji_v['Label'], grid_search.predict(df_emoji_v['Emoji'].values), average='macro')\n",
        "f1"
      ],
      "execution_count": null,
      "outputs": [
        {
          "output_type": "execute_result",
          "data": {
            "text/plain": [
              "0.25514089009074714"
            ]
          },
          "metadata": {
            "tags": []
          },
          "execution_count": 19
        }
      ]
    },
    {
      "cell_type": "code",
      "metadata": {
        "id": "CzYX6Dl1mj7H",
        "colab": {
          "base_uri": "https://localhost:8080/",
          "height": 279
        },
        "outputId": "19b8749c-5aa5-4431-a830-e48e7d685567"
      },
      "source": [
        "plot_confusion_matrix(grid_search, df_emoji_v['Emoji'], df_emoji_v['Label'], include_values=False, cmap=plt.cm.Blues)\n",
        "plt.show()"
      ],
      "execution_count": null,
      "outputs": [
        {
          "output_type": "display_data",
          "data": {
            "image/png": "[encoded data removed]",
            "text/plain": [
              "<Figure size 432x288 with 2 Axes>"
            ]
          },
          "metadata": {
            "tags": [],
            "needs_background": "light"
          }
        }
      ]
    },
    {
      "cell_type": "code",
      "metadata": {
        "id": "OWvDNZNWmj7H",
        "colab": {
          "base_uri": "https://localhost:8080/"
        },
        "outputId": "6a065c66-c51e-48df-8c96-4a201d34fdb4"
      },
      "source": [
        "f1 = f1_score(df_emoji_te['Label'], grid_search.predict(df_emoji_te['Emoji']), average='macro')\n",
        "f1"
      ],
      "execution_count": null,
      "outputs": [
        {
          "output_type": "execute_result",
          "data": {
            "text/plain": [
              "0.29421443261740116"
            ]
          },
          "metadata": {
            "tags": []
          },
          "execution_count": 21
        }
      ]
    },
    {
      "cell_type": "code",
      "metadata": {
        "id": "Hu1R-lQymj7H",
        "colab": {
          "base_uri": "https://localhost:8080/",
          "height": 279
        },
        "outputId": "3c5a5c5e-2553-4d8d-f2a1-010e8b9d01d7"
      },
      "source": [
        "plot_confusion_matrix(grid_search, df_emoji_te['Emoji'], df_emoji_te['Label'], include_values=False, cmap=plt.cm.Blues)\n",
        "plt.show()"
      ],
      "execution_count": null,
      "outputs": [
        {
          "output_type": "display_data",
          "data": {
            "image/png": "[encoded data removed]",
            "text/plain": [
              "<Figure size 432x288 with 2 Axes>"
            ]
          },
          "metadata": {
            "tags": [],
            "needs_background": "light"
          }
        }
      ]
    }
  ]
}