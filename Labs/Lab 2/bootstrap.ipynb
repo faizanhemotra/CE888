{
  "nbformat": 4,
  "nbformat_minor": 0,
  "metadata": {
    "colab": {
      "name": "bootstrap.ipynb",
      "provenance": [],
      "include_colab_link": true
    },
    "kernelspec": {
      "display_name": "Python 3",
      "language": "python",
      "name": "python3"
    },
    "language_info": {
      "codemirror_mode": {
        "name": "ipython",
        "version": 3
      },
      "file_extension": ".py",
      "mimetype": "text/x-python",
      "name": "python",
      "nbconvert_exporter": "python",
      "pygments_lexer": "ipython3",
      "version": "3.7.6"
    },
    "pycharm": {
      "stem_cell": {
        "cell_type": "raw",
        "metadata": {
          "collapsed": false
        },
        "source": []
      }
    }
  },
  "cells": [
    {
      "cell_type": "markdown",
      "metadata": {
        "id": "view-in-github",
        "colab_type": "text"
      },
      "source": [
        "<a href=\"https://colab.research.google.com/github/faizanhemotra/CE888/blob/main/Labs/Lab%202/bootstrap.ipynb\" target=\"_parent\"><img src=\"https://colab.research.google.com/assets/colab-badge.svg\" alt=\"Open In Colab\"/></a>"
      ]
    },
    {
      "cell_type": "markdown",
      "metadata": {
        "id": "nCi_99yMYIb1"
      },
      "source": [
        "In this notebook you'll create your own bootstrap function following the bootstrap algorithm (check the lecture notes!)"
      ]
    },
    {
      "cell_type": "code",
      "metadata": {
        "id": "LY5zujI2YC37",
        "pycharm": {
          "name": "#%%# Imports\n"
        }
      },
      "source": [
        "import matplotlib\n",
        "import pandas as pd\n",
        "import seaborn as sns\n",
        "import numpy as np"
      ],
      "execution_count": 1,
      "outputs": []
    },
    {
      "cell_type": "code",
      "metadata": {
        "id": "Eqkwj4SMY38t"
      },
      "source": [
        "# Load the data\n",
        "df = pd.read_csv('https://raw.githubusercontent.com/albanda/CE888/master/lab2%20-%20bootstrap/customers.csv')\n",
        "data = df.values.T[1]"
      ],
      "execution_count": 2,
      "outputs": []
    },
    {
      "cell_type": "code",
      "metadata": {
        "id": "Gxvc_bScYC4H",
        "pycharm": {
          "name": "#%%\n"
        }
      },
      "source": [
        "# Checking the notes from the lecture, create here your own bootstrap function:\n",
        "# 1. Sample from the input array x to create an array of samples of shape (n_bootstraps, sample_size)\n",
        "# Hint: Check the function random.choice() on Numpy\n",
        "# 2. Calculate and save the mean of the array (this is \"data_mean\" that is returned by the function)\n",
        "# 3. Calculate the mean from each bootstrap (i.e., row) and store it.\n",
        "# (This should be an array of n_bootstraps values)\n",
        "# 4. Calculate the lower and upper bounds for a 95% CI (hint: check the percentile function on Numpy)\n",
        "# 5. Return data_mean, and the lower and upper bounds of your interval\n",
        "def bootstrap_mean(x, sample_size, n_bootstraps):\n",
        "    sample_array = np.random.choice(x, size=(n_bootstraps, sample_size))\n",
        "    rows_sum = np.sum(sample_array, axis=1) / sample_size\n",
        "    data_mean = np.sum(rows_sum) / n_bootstraps\n",
        "    lower = np.percentile(rows_sum, 2.5)\n",
        "    upper = np.percentile(rows_sum, 97.5)\n",
        "    return data_mean, lower, upper"
      ],
      "execution_count": 3,
      "outputs": []
    },
    {
      "cell_type": "code",
      "metadata": {
        "id": "AN7sEOcMYC4P",
        "pycharm": {
          "name": "#%%\n"
        },
        "colab": {
          "base_uri": "https://localhost:8080/",
          "height": 400
        },
        "outputId": "36028942-d465-4264-e260-fc10cb2c502c"
      },
      "source": [
        "# Call your bootstrap function and plot the results\n",
        "\n",
        "boots = []\n",
        "for i in range(100, 50000, 1000):\n",
        "    boot = bootstrap_mean(data, data.shape[0], i)\n",
        "    boots.append([i, boot[0], \"mean\"])\n",
        "    boots.append([i, boot[1], \"lower\"])\n",
        "    boots.append([i, boot[2], \"upper\"])\n",
        "\n",
        "df_boot = pd.DataFrame(boots, columns=['Bootstrap Iterations', 'Mean', \"Value\"])\n",
        "sns_plot = sns.lmplot(x=df_boot.columns[0], y=df_boot.columns[1], data=df_boot, fit_reg=False, hue=\"Value\")\n",
        "\n",
        "sns_plot.axes[0, 0].set_ylim(0,)\n",
        "sns_plot.axes[0, 0].set_xlim(0, 50000)"
      ],
      "execution_count": 4,
      "outputs": [
        {
          "output_type": "execute_result",
          "data": {
            "text/plain": [
              "(0.0, 50000.0)"
            ]
          },
          "metadata": {
            "tags": []
          },
          "execution_count": 4
        },
        {
          "output_type": "display_data",
          "data": {
            "image/png": "[encoded data removed]",
            "text/plain": [
              "<Figure size 425.125x360 with 1 Axes>"
            ]
          },
          "metadata": {
            "tags": [],
            "needs_background": "light"
          }
        }
      ]
    },
    {
      "cell_type": "markdown",
      "metadata": {
        "id": "MjtP4e2_YC4V"
      },
      "source": [
        "\n",
        "Now, modify the bootstrap function you created above so that you can pass your desired confidence interval as a parameter.\n",
        "\n"
      ]
    },
    {
      "cell_type": "code",
      "metadata": {
        "id": "3K9j0FuGYhHs"
      },
      "source": [
        "def bootstrap_mean_ci(sample, sample_size, n_bootstraps, ci):\n",
        "    sample_array = np.random.choice(sample, size=(n_bootstraps, sample_size))\n",
        "    rows_sum = np.sum(sample_array, axis=1) / sample_size\n",
        "    data_mean = np.sum(rows_sum) / n_bootstraps\n",
        "    lower = np.percentile(rows_sum, (100 - ci) / 2)\n",
        "    upper = np.percentile(rows_sum, 100 - (100 - ci) / 2)\n",
        "    return data_mean, lower, upper"
      ],
      "execution_count": 5,
      "outputs": []
    },
    {
      "cell_type": "code",
      "metadata": {
        "id": "uDnjq08GYl-C",
        "colab": {
          "base_uri": "https://localhost:8080/",
          "height": 400
        },
        "outputId": "881452b2-fb01-483e-c906-4533e59916a7"
      },
      "source": [
        "boots = []\n",
        "for i in range(100, 50000, 1000):\n",
        "    boot = bootstrap_mean_ci(data, data.shape[0], i, 80)\n",
        "    boots.append([i, boot[0], \"mean\"])\n",
        "    boots.append([i, boot[1], \"lower\"])\n",
        "    boots.append([i, boot[2], \"upper\"])\n",
        "\n",
        "df_boot = pd.DataFrame(boots, columns=['Boostrap Iterations', 'Mean', \"Value\"])\n",
        "sns_plot = sns.lmplot(x=df_boot.columns[0], y=df_boot.columns[1], data=df_boot, fit_reg=False, hue=\"Value\")\n",
        "\n",
        "sns_plot.axes[0, 0].set_ylim(0,)\n",
        "sns_plot.axes[0, 0].set_xlim(0, 50000)\n",
        "\n",
        "#sns_plot.savefig(\"bootstrap_confidence_80.pdf\", bbox_inches='tight')"
      ],
      "execution_count": 6,
      "outputs": [
        {
          "output_type": "execute_result",
          "data": {
            "text/plain": [
              "(0.0, 50000.0)"
            ]
          },
          "metadata": {
            "tags": []
          },
          "execution_count": 6
        },
        {
          "output_type": "display_data",
          "data": {
            "image/png": "[encoded data removed]",
            "text/plain": [
              "<Figure size 425.125x360 with 1 Axes>"
            ]
          },
          "metadata": {
            "tags": [],
            "needs_background": "light"
          }
        }
      ]
    },
    {
      "cell_type": "markdown",
      "metadata": {
        "id": "qjNgXW6wdd7r"
      },
      "source": [
        "# Vehicles dataset\n",
        "\n",
        "Now let's work on a different dataset, which is stored in the vehicles.csv file.\n"
      ]
    },
    {
      "cell_type": "code",
      "metadata": {
        "id": "avWv4ipFdpka",
        "colab": {
          "base_uri": "https://localhost:8080/",
          "height": 297
        },
        "outputId": "3b02e387-ef8d-44af-b859-1b45dcee6aef"
      },
      "source": [
        "# Load and visualise the vehicles dataset\n",
        "# To load the dataset: https://neptune.ai/blog/google-colab-dealing-with-files (check section \"Load individual files directly from GitHub\")\n",
        "\n",
        "\n",
        "# Note that the current and new fleets are in different columns and have different lengths, so bear this in mind when you're plotting.\n",
        "# You can create separate scatterplots for the two fleets, as you would with the histograms, \n",
        "# or plot them both in one plot (but not one against the other).\n",
        "df = pd.read_csv('https://raw.githubusercontent.com/albanda/CE888/master/lab2%20-%20bootstrap/vehicles.csv')\n",
        "curfleet = df['Current fleet'].to_numpy()\n",
        "newfleet = df['New Fleet'].dropna().to_numpy()\n",
        "\n",
        "matplotlib.pyplot.scatter([range((len(curfleet)))], curfleet)\n",
        "matplotlib.pyplot.xlabel('index')\n",
        "matplotlib.pyplot.ylabel('Current fleet')\n",
        "# Note: you can add more cells as needed to organise your code and your plots"
      ],
      "execution_count": 7,
      "outputs": [
        {
          "output_type": "execute_result",
          "data": {
            "text/plain": [
              "Text(0, 0.5, 'Current fleet')"
            ]
          },
          "metadata": {
            "tags": []
          },
          "execution_count": 7
        },
        {
          "output_type": "display_data",
          "data": {
            "image/png": "[encoded data removed]",
            "text/plain": [
              "<Figure size 432x288 with 1 Axes>"
            ]
          },
          "metadata": {
            "tags": [],
            "needs_background": "light"
          }
        }
      ]
    },
    {
      "cell_type": "code",
      "metadata": {
        "id": "-tuV0d1W4btT",
        "colab": {
          "base_uri": "https://localhost:8080/",
          "height": 296
        },
        "outputId": "348f603d-71cf-411f-e92c-7d6c6f7f0de5"
      },
      "source": [
        "matplotlib.pyplot.scatter([range((len(newfleet)))], newfleet)\r\n",
        "matplotlib.pyplot.xlabel('index')\r\n",
        "matplotlib.pyplot.ylabel('New Fleet')"
      ],
      "execution_count": 8,
      "outputs": [
        {
          "output_type": "execute_result",
          "data": {
            "text/plain": [
              "Text(0, 0.5, 'New Fleet')"
            ]
          },
          "metadata": {
            "tags": []
          },
          "execution_count": 8
        },
        {
          "output_type": "display_data",
          "data": {
            "image/png": "[encoded data removed]",
            "text/plain": [
              "<Figure size 432x288 with 1 Axes>"
            ]
          },
          "metadata": {
            "tags": [],
            "needs_background": "light"
          }
        }
      ]
    },
    {
      "cell_type": "markdown",
      "metadata": {
        "id": "B5d0tXDpIEj8"
      },
      "source": [
        "## Compare the two fleets\r\n",
        "\r\n",
        "The business analysts come up a comparison algorithm that requires the upper and lower bounds for the mean in order to say which fleet is better.\r\n",
        "1. Calculate the mean of both samples.\r\n",
        "2. Using the bootstrap function that you created:\r\n",
        "    - Construct the 95% CI of the mean of the current fleet.\r\n",
        "    - Construct the 95% CI of the mean of the new fleet.\r\n",
        "    - Are they comparable? (i.e., is one better than the other?) -- you can do this with a permutation test (check the lecture notes!)"
      ]
    },
    {
      "cell_type": "code",
      "metadata": {
        "id": "MkxvDZG4HC0n"
      },
      "source": [
        "# Create your own function for a permutation test here (you will need it for the lab quiz!):\n",
        "def permut_test(sample1, sample2, n_permutations):\n",
        "    \"\"\"\n",
        "    sample1: 1D array\n",
        "    sample2: 1D array (note that the size of the two arrays can be different)\n",
        "    n_permutations: number of permutations to calculate the p-value\n",
        "    \"\"\"\n",
        "    o_curfl = np.mean(sample1)\n",
        "    o_newfl = np.mean(sample2)\n",
        "    t_obs = abs(o_newfl - o_curfl)\n",
        "    concat = np.concatenate((sample1, sample2))\n",
        "    pvalarray = list()\n",
        "    for _ in range(n_permutations):\n",
        "        perm = np.random.permutation(concat)\n",
        "        n_curfl = perm[:int(len(perm) / 2)]\n",
        "        n_newfl = perm[int(len(perm) / 2):]\n",
        "        n_cmean = np.mean(n_curfl)\n",
        "        n_nmean = np.mean(n_newfl)\n",
        "        t_perm = abs(n_nmean - n_cmean)\n",
        "        if t_perm > t_obs:\n",
        "            pvalarray.append(1)\n",
        "    pvalue = len(pvalarray) / n_permutations\n",
        "    return pvalue"
      ],
      "execution_count": 9,
      "outputs": []
    },
    {
      "cell_type": "code",
      "metadata": {
        "id": "37V3IIWi42hC",
        "colab": {
          "base_uri": "https://localhost:8080/"
        },
        "outputId": "fa4870ae-bb13-4572-cd02-34a490c92e1b"
      },
      "source": [
        "curfl_mean = np.mean(curfleet)\r\n",
        "newfl_mean = np.mean(newfleet)\r\n",
        "\r\n",
        "permut_test(curfleet, newfleet, 30000)"
      ],
      "execution_count": 10,
      "outputs": [
        {
          "output_type": "execute_result",
          "data": {
            "text/plain": [
              "0.0"
            ]
          },
          "metadata": {
            "tags": []
          },
          "execution_count": 10
        }
      ]
    },
    {
      "cell_type": "code",
      "metadata": {
        "id": "SAB7LBhG432o",
        "colab": {
          "base_uri": "https://localhost:8080/"
        },
        "outputId": "f2ece924-5eb8-491d-fbd1-e988640fce37"
      },
      "source": [
        "# mean of the customers dataset using 10000 bootstraps\r\n",
        "boots = bootstrap_mean_ci(data, data.shape[0], n_bootstraps=10000, ci=95)\r\n",
        "print(boots)"
      ],
      "execution_count": 11,
      "outputs": [
        {
          "output_type": "stream",
          "text": [
            "(9.218442857142856, 6.428571428571429, 12.357142857142858)\n"
          ],
          "name": "stdout"
        }
      ]
    },
    {
      "cell_type": "code",
      "metadata": {
        "id": "YIkJga0S46G7",
        "colab": {
          "base_uri": "https://localhost:8080/"
        },
        "outputId": "94591107-f4a2-4a59-d73d-9673d54b1a7d"
      },
      "source": [
        "# new fleet mean using 10000 bootstraps\r\n",
        "boots = bootstrap_mean_ci(newfleet, len(newfleet), n_bootstraps=10000, ci=95)\r\n",
        "print(boots)"
      ],
      "execution_count": 12,
      "outputs": [
        {
          "output_type": "stream",
          "text": [
            "(30.484660759493675, 29.17721518987342, 31.860759493670887)\n"
          ],
          "name": "stdout"
        }
      ]
    },
    {
      "cell_type": "code",
      "metadata": {
        "id": "OXJqeV2148ZV"
      },
      "source": [
        "def bootstrap_ci_std(sample, sample_size, n_bootstraps, ci):\r\n",
        "    sample_array = np.random.choice(sample, size=(n_bootstraps, sample_size))\r\n",
        "    rows_std = np.std(sample_array, axis=1)\r\n",
        "    data_std = np.sum(rows_std) / n_bootstraps\r\n",
        "    lower = np.percentile(rows_std, (100 - ci) / 2)\r\n",
        "    upper = np.percentile(rows_std, 100 - (100 - ci) / 2)\r\n",
        "    return data_std, lower, upper"
      ],
      "execution_count": 13,
      "outputs": []
    },
    {
      "cell_type": "code",
      "metadata": {
        "id": "aMpeJzQk4-Qe",
        "colab": {
          "base_uri": "https://localhost:8080/"
        },
        "outputId": "7822f6e9-e7dd-4aea-9826-14d1ec14b652"
      },
      "source": [
        "# old fleet standard deviation using 10000 bootstraps with 73% CI\r\n",
        "boots = bootstrap_ci_std(curfleet, len(curfleet), n_bootstraps=10000, ci=73)\r\n",
        "print(boots)\r\n",
        "# customer dataset standard deviation using 10000 bootstraps with 90% CI\r\n",
        "boots = bootstrap_ci_std(data, data.shape[0], n_bootstraps=10000, ci=90)\r\n",
        "print(boots)"
      ],
      "execution_count": 14,
      "outputs": [
        {
          "output_type": "stream",
          "text": [
            "(6.382584169298454, 6.064877863695779, 6.70132058759593)\n",
            "(5.345598990151804, 3.0142517713038046, 7.117454830577158)\n"
          ],
          "name": "stdout"
        }
      ]
    },
    {
      "cell_type": "code",
      "metadata": {
        "id": "IWn9Q1pd5AR9",
        "colab": {
          "base_uri": "https://localhost:8080/"
        },
        "outputId": "edff9653-d8ec-4a0b-8649-9677e01773b6"
      },
      "source": [
        "# voting_data (Source: https://raw.githubusercontent.com/albanda/CE888/master/lab2%20-%20bootstrap/voting_data.py)\r\n",
        "dem_share_PA = [60.08, 40.64, 36.07, 41.21, 31.04, 43.78, 44.08, 46.85, 44.71, 46.15, 63.10, 52.20, 43.18, 40.24, 39.92, 47.87, 37.77, 40.11, 49.85, 48.61, 38.62, 54.25, 34.84, 47.75, 43.82, 55.97, 58.23, 42.97, 42.38, 36.11, 37.53, 42.65, 50.96, 47.43, 56.24, 45.60, 46.39, 35.22, 48.56, 32.97, 57.88, 36.05, 37.72, 50.36, 32.12, 41.55, 54.66, 57.81, 54.58, 32.88, 54.37, 40.45, 47.61, 60.49, 43.11, 27.32, 44.03, 33.56, 37.26, 54.64, 43.12, 25.34, 49.79, 83.56, 40.09, 60.81, 49.81]\r\n",
        "dem_share_OH = [56.94, 50.46, 65.99, 45.88, 42.23, 45.26, 57.01, 53.61, 59.10, 61.48, 43.43, 44.69, 54.59, 48.36, 45.89, 48.62, 43.92, 38.23, 28.79, 63.57, 38.07, 40.18, 43.05, 41.56, 42.49, 36.06, 52.76, 46.07, 39.43, 39.26, 47.47, 27.92, 38.01, 45.45, 29.07, 28.94, 51.28, 50.10, 39.84, 36.43, 35.71, 31.47, 47.01, 40.10, 48.76, 31.56, 39.86, 45.31, 35.47, 51.38, 46.33, 48.73, 41.77, 41.32, 48.46, 53.14, 34.01, 54.74, 40.67, 38.96, 46.29, 38.25, 6.80, 31.75, 46.33, 44.90, 33.57, 38.10, 39.67, 40.47, 49.44, 37.62, 36.71, 46.73, 42.20, 53.16, 52.40, 58.36, 68.02, 38.53, 34.58, 69.64, 60.50, 53.53, 36.54, 49.58, 41.97, 38.11]\r\n",
        "num_voters_PA = len(dem_share_PA)\r\n",
        "num_voters_OH = len(dem_share_OH)\r\n",
        "boots_PA = bootstrap_mean_ci(dem_share_PA, num_voters_PA, n_bootstraps=100000, ci=98)\r\n",
        "print(boots_PA)\r\n",
        "boots_OH = bootstrap_mean_ci(dem_share_OH, num_voters_OH, n_bootstraps=100000, ci=98)\r\n",
        "print(boots_OH)\r\n",
        "\r\n",
        "permut_test(dem_share_PA, dem_share_OH, 30000)"
      ],
      "execution_count": 15,
      "outputs": [
        {
          "output_type": "stream",
          "text": [
            "(45.469562116417904, 42.798356716417906, 48.30522686567163)\n",
            "(44.31733224318181, 41.860792045454545, 46.765570454545454)\n"
          ],
          "name": "stdout"
        },
        {
          "output_type": "execute_result",
          "data": {
            "text/plain": [
              "0.46913333333333335"
            ]
          },
          "metadata": {
            "tags": []
          },
          "execution_count": 15
        }
      ]
    }
  ]
}